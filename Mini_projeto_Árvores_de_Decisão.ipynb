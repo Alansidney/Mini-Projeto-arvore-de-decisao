{
  "nbformat": 4,
  "nbformat_minor": 5,
  "metadata": {
    "kernelspec": {
      "display_name": "Python 3",
      "language": "python",
      "name": "python3"
    },
    "language_info": {
      "codemirror_mode": {
        "name": "ipython",
        "version": 3
      },
      "file_extension": ".py",
      "mimetype": "text/x-python",
      "name": "python",
      "nbconvert_exporter": "python",
      "pygments_lexer": "ipython3",
      "version": "3.8.8"
    },
    "colab": {
      "name": "Mini-projeto Árvores de Decisão.ipynb",
      "provenance": []
    }
  },
  "cells": [
    {
      "cell_type": "code",
      "metadata": {
        "id": "2bd0d764"
      },
      "source": [
        "#Importando bibliotecas\n",
        "import pandas as pd\n",
        "import numpy as np\n",
        "import matplotlib.pyplot as plt\n",
        "import seaborn as sns\n",
        "from sklearn.model_selection import train_test_split\n",
        "from sklearn import tree\n",
        "from sklearn.tree import DecisionTreeClassifier\n",
        "from sklearn.metrics import classification_report,confusion_matrix,accuracy_score"
      ],
      "id": "2bd0d764",
      "execution_count": 198,
      "outputs": []
    },
    {
      "cell_type": "code",
      "metadata": {
        "id": "5b2a1f67"
      },
      "source": [
        "#Lendo arquivo train.csv e atribuindo ao dataframe\n",
        "df_train = pd.read_csv(\"train.csv\")"
      ],
      "id": "5b2a1f67",
      "execution_count": 199,
      "outputs": []
    },
    {
      "cell_type": "code",
      "metadata": {
        "scrolled": true,
        "colab": {
          "base_uri": "https://localhost:8080/",
          "height": 204
        },
        "id": "d831cde6",
        "outputId": "bc4d77dd-cf8c-4ecd-f082-48a5b93a8228"
      },
      "source": [
        "#Printando 5 primeiuras linhas do DF_train\n",
        "df_train.head()"
      ],
      "id": "d831cde6",
      "execution_count": 200,
      "outputs": [
        {
          "output_type": "execute_result",
          "data": {
            "text/html": [
              "<div>\n",
              "<style scoped>\n",
              "    .dataframe tbody tr th:only-of-type {\n",
              "        vertical-align: middle;\n",
              "    }\n",
              "\n",
              "    .dataframe tbody tr th {\n",
              "        vertical-align: top;\n",
              "    }\n",
              "\n",
              "    .dataframe thead th {\n",
              "        text-align: right;\n",
              "    }\n",
              "</style>\n",
              "<table border=\"1\" class=\"dataframe\">\n",
              "  <thead>\n",
              "    <tr style=\"text-align: right;\">\n",
              "      <th></th>\n",
              "      <th>PassengerId</th>\n",
              "      <th>Survived</th>\n",
              "      <th>Pclass</th>\n",
              "      <th>Name</th>\n",
              "      <th>Sex</th>\n",
              "      <th>Age</th>\n",
              "      <th>SibSp</th>\n",
              "      <th>Parch</th>\n",
              "      <th>Ticket</th>\n",
              "      <th>Fare</th>\n",
              "      <th>Cabin</th>\n",
              "      <th>Embarked</th>\n",
              "    </tr>\n",
              "  </thead>\n",
              "  <tbody>\n",
              "    <tr>\n",
              "      <th>0</th>\n",
              "      <td>1</td>\n",
              "      <td>0</td>\n",
              "      <td>3</td>\n",
              "      <td>Braund, Mr. Owen Harris</td>\n",
              "      <td>male</td>\n",
              "      <td>22.0</td>\n",
              "      <td>1</td>\n",
              "      <td>0</td>\n",
              "      <td>A/5 21171</td>\n",
              "      <td>7.2500</td>\n",
              "      <td>NaN</td>\n",
              "      <td>S</td>\n",
              "    </tr>\n",
              "    <tr>\n",
              "      <th>1</th>\n",
              "      <td>2</td>\n",
              "      <td>1</td>\n",
              "      <td>1</td>\n",
              "      <td>Cumings, Mrs. John Bradley (Florence Briggs Th...</td>\n",
              "      <td>female</td>\n",
              "      <td>38.0</td>\n",
              "      <td>1</td>\n",
              "      <td>0</td>\n",
              "      <td>PC 17599</td>\n",
              "      <td>71.2833</td>\n",
              "      <td>C85</td>\n",
              "      <td>C</td>\n",
              "    </tr>\n",
              "    <tr>\n",
              "      <th>2</th>\n",
              "      <td>3</td>\n",
              "      <td>1</td>\n",
              "      <td>3</td>\n",
              "      <td>Heikkinen, Miss. Laina</td>\n",
              "      <td>female</td>\n",
              "      <td>26.0</td>\n",
              "      <td>0</td>\n",
              "      <td>0</td>\n",
              "      <td>STON/O2. 3101282</td>\n",
              "      <td>7.9250</td>\n",
              "      <td>NaN</td>\n",
              "      <td>S</td>\n",
              "    </tr>\n",
              "    <tr>\n",
              "      <th>3</th>\n",
              "      <td>4</td>\n",
              "      <td>1</td>\n",
              "      <td>1</td>\n",
              "      <td>Futrelle, Mrs. Jacques Heath (Lily May Peel)</td>\n",
              "      <td>female</td>\n",
              "      <td>35.0</td>\n",
              "      <td>1</td>\n",
              "      <td>0</td>\n",
              "      <td>113803</td>\n",
              "      <td>53.1000</td>\n",
              "      <td>C123</td>\n",
              "      <td>S</td>\n",
              "    </tr>\n",
              "    <tr>\n",
              "      <th>4</th>\n",
              "      <td>5</td>\n",
              "      <td>0</td>\n",
              "      <td>3</td>\n",
              "      <td>Allen, Mr. William Henry</td>\n",
              "      <td>male</td>\n",
              "      <td>35.0</td>\n",
              "      <td>0</td>\n",
              "      <td>0</td>\n",
              "      <td>373450</td>\n",
              "      <td>8.0500</td>\n",
              "      <td>NaN</td>\n",
              "      <td>S</td>\n",
              "    </tr>\n",
              "  </tbody>\n",
              "</table>\n",
              "</div>"
            ],
            "text/plain": [
              "   PassengerId  Survived  Pclass  ...     Fare Cabin  Embarked\n",
              "0            1         0       3  ...   7.2500   NaN         S\n",
              "1            2         1       1  ...  71.2833   C85         C\n",
              "2            3         1       3  ...   7.9250   NaN         S\n",
              "3            4         1       1  ...  53.1000  C123         S\n",
              "4            5         0       3  ...   8.0500   NaN         S\n",
              "\n",
              "[5 rows x 12 columns]"
            ]
          },
          "metadata": {},
          "execution_count": 200
        }
      ]
    },
    {
      "cell_type": "code",
      "metadata": {
        "colab": {
          "base_uri": "https://localhost:8080/"
        },
        "id": "562b542a",
        "outputId": "acb48d52-031f-489c-b4f9-7a674aed880f"
      },
      "source": [
        "#n. de linhas e colunas\n",
        "df_train.shape"
      ],
      "id": "562b542a",
      "execution_count": 201,
      "outputs": [
        {
          "output_type": "execute_result",
          "data": {
            "text/plain": [
              "(891, 12)"
            ]
          },
          "metadata": {},
          "execution_count": 201
        }
      ]
    },
    {
      "cell_type": "code",
      "metadata": {
        "scrolled": true,
        "colab": {
          "base_uri": "https://localhost:8080/"
        },
        "id": "53aa5a2d",
        "outputId": "21123b62-a1b4-447f-ea8a-4b36424950c3"
      },
      "source": [
        "#Informações do DF_train\n",
        "df_train.info()"
      ],
      "id": "53aa5a2d",
      "execution_count": 202,
      "outputs": [
        {
          "output_type": "stream",
          "text": [
            "<class 'pandas.core.frame.DataFrame'>\n",
            "RangeIndex: 891 entries, 0 to 890\n",
            "Data columns (total 12 columns):\n",
            " #   Column       Non-Null Count  Dtype  \n",
            "---  ------       --------------  -----  \n",
            " 0   PassengerId  891 non-null    int64  \n",
            " 1   Survived     891 non-null    int64  \n",
            " 2   Pclass       891 non-null    int64  \n",
            " 3   Name         891 non-null    object \n",
            " 4   Sex          891 non-null    object \n",
            " 5   Age          714 non-null    float64\n",
            " 6   SibSp        891 non-null    int64  \n",
            " 7   Parch        891 non-null    int64  \n",
            " 8   Ticket       891 non-null    object \n",
            " 9   Fare         891 non-null    float64\n",
            " 10  Cabin        204 non-null    object \n",
            " 11  Embarked     889 non-null    object \n",
            "dtypes: float64(2), int64(5), object(5)\n",
            "memory usage: 83.7+ KB\n"
          ],
          "name": "stdout"
        }
      ]
    },
    {
      "cell_type": "code",
      "metadata": {
        "colab": {
          "base_uri": "https://localhost:8080/",
          "height": 297
        },
        "id": "b0735cdd",
        "outputId": "17126f5c-5def-4aa0-a9f7-8d0b2ef0cb46"
      },
      "source": [
        "#Detalhamento do conjunto de treinamento\n",
        "df_train.describe()"
      ],
      "id": "b0735cdd",
      "execution_count": 203,
      "outputs": [
        {
          "output_type": "execute_result",
          "data": {
            "text/html": [
              "<div>\n",
              "<style scoped>\n",
              "    .dataframe tbody tr th:only-of-type {\n",
              "        vertical-align: middle;\n",
              "    }\n",
              "\n",
              "    .dataframe tbody tr th {\n",
              "        vertical-align: top;\n",
              "    }\n",
              "\n",
              "    .dataframe thead th {\n",
              "        text-align: right;\n",
              "    }\n",
              "</style>\n",
              "<table border=\"1\" class=\"dataframe\">\n",
              "  <thead>\n",
              "    <tr style=\"text-align: right;\">\n",
              "      <th></th>\n",
              "      <th>PassengerId</th>\n",
              "      <th>Survived</th>\n",
              "      <th>Pclass</th>\n",
              "      <th>Age</th>\n",
              "      <th>SibSp</th>\n",
              "      <th>Parch</th>\n",
              "      <th>Fare</th>\n",
              "    </tr>\n",
              "  </thead>\n",
              "  <tbody>\n",
              "    <tr>\n",
              "      <th>count</th>\n",
              "      <td>891.000000</td>\n",
              "      <td>891.000000</td>\n",
              "      <td>891.000000</td>\n",
              "      <td>714.000000</td>\n",
              "      <td>891.000000</td>\n",
              "      <td>891.000000</td>\n",
              "      <td>891.000000</td>\n",
              "    </tr>\n",
              "    <tr>\n",
              "      <th>mean</th>\n",
              "      <td>446.000000</td>\n",
              "      <td>0.383838</td>\n",
              "      <td>2.308642</td>\n",
              "      <td>29.699118</td>\n",
              "      <td>0.523008</td>\n",
              "      <td>0.381594</td>\n",
              "      <td>32.204208</td>\n",
              "    </tr>\n",
              "    <tr>\n",
              "      <th>std</th>\n",
              "      <td>257.353842</td>\n",
              "      <td>0.486592</td>\n",
              "      <td>0.836071</td>\n",
              "      <td>14.526497</td>\n",
              "      <td>1.102743</td>\n",
              "      <td>0.806057</td>\n",
              "      <td>49.693429</td>\n",
              "    </tr>\n",
              "    <tr>\n",
              "      <th>min</th>\n",
              "      <td>1.000000</td>\n",
              "      <td>0.000000</td>\n",
              "      <td>1.000000</td>\n",
              "      <td>0.420000</td>\n",
              "      <td>0.000000</td>\n",
              "      <td>0.000000</td>\n",
              "      <td>0.000000</td>\n",
              "    </tr>\n",
              "    <tr>\n",
              "      <th>25%</th>\n",
              "      <td>223.500000</td>\n",
              "      <td>0.000000</td>\n",
              "      <td>2.000000</td>\n",
              "      <td>20.125000</td>\n",
              "      <td>0.000000</td>\n",
              "      <td>0.000000</td>\n",
              "      <td>7.910400</td>\n",
              "    </tr>\n",
              "    <tr>\n",
              "      <th>50%</th>\n",
              "      <td>446.000000</td>\n",
              "      <td>0.000000</td>\n",
              "      <td>3.000000</td>\n",
              "      <td>28.000000</td>\n",
              "      <td>0.000000</td>\n",
              "      <td>0.000000</td>\n",
              "      <td>14.454200</td>\n",
              "    </tr>\n",
              "    <tr>\n",
              "      <th>75%</th>\n",
              "      <td>668.500000</td>\n",
              "      <td>1.000000</td>\n",
              "      <td>3.000000</td>\n",
              "      <td>38.000000</td>\n",
              "      <td>1.000000</td>\n",
              "      <td>0.000000</td>\n",
              "      <td>31.000000</td>\n",
              "    </tr>\n",
              "    <tr>\n",
              "      <th>max</th>\n",
              "      <td>891.000000</td>\n",
              "      <td>1.000000</td>\n",
              "      <td>3.000000</td>\n",
              "      <td>80.000000</td>\n",
              "      <td>8.000000</td>\n",
              "      <td>6.000000</td>\n",
              "      <td>512.329200</td>\n",
              "    </tr>\n",
              "  </tbody>\n",
              "</table>\n",
              "</div>"
            ],
            "text/plain": [
              "       PassengerId    Survived      Pclass  ...       SibSp       Parch        Fare\n",
              "count   891.000000  891.000000  891.000000  ...  891.000000  891.000000  891.000000\n",
              "mean    446.000000    0.383838    2.308642  ...    0.523008    0.381594   32.204208\n",
              "std     257.353842    0.486592    0.836071  ...    1.102743    0.806057   49.693429\n",
              "min       1.000000    0.000000    1.000000  ...    0.000000    0.000000    0.000000\n",
              "25%     223.500000    0.000000    2.000000  ...    0.000000    0.000000    7.910400\n",
              "50%     446.000000    0.000000    3.000000  ...    0.000000    0.000000   14.454200\n",
              "75%     668.500000    1.000000    3.000000  ...    1.000000    0.000000   31.000000\n",
              "max     891.000000    1.000000    3.000000  ...    8.000000    6.000000  512.329200\n",
              "\n",
              "[8 rows x 7 columns]"
            ]
          },
          "metadata": {},
          "execution_count": 203
        }
      ]
    },
    {
      "cell_type": "code",
      "metadata": {
        "id": "6969057f"
      },
      "source": [
        "#Lendo arquivo test.csv e atribuindo ao dataframe\n",
        "df_test = pd.read_csv(\"test.csv\")"
      ],
      "id": "6969057f",
      "execution_count": 204,
      "outputs": []
    },
    {
      "cell_type": "code",
      "metadata": {
        "scrolled": false,
        "colab": {
          "base_uri": "https://localhost:8080/",
          "height": 204
        },
        "id": "f881df1d",
        "outputId": "5b811256-50c7-46b6-ba82-7ca174c5d305"
      },
      "source": [
        "#Printando 5 primeiuras linhas do DF_test\n",
        "df_test.head()"
      ],
      "id": "f881df1d",
      "execution_count": 205,
      "outputs": [
        {
          "output_type": "execute_result",
          "data": {
            "text/html": [
              "<div>\n",
              "<style scoped>\n",
              "    .dataframe tbody tr th:only-of-type {\n",
              "        vertical-align: middle;\n",
              "    }\n",
              "\n",
              "    .dataframe tbody tr th {\n",
              "        vertical-align: top;\n",
              "    }\n",
              "\n",
              "    .dataframe thead th {\n",
              "        text-align: right;\n",
              "    }\n",
              "</style>\n",
              "<table border=\"1\" class=\"dataframe\">\n",
              "  <thead>\n",
              "    <tr style=\"text-align: right;\">\n",
              "      <th></th>\n",
              "      <th>PassengerId</th>\n",
              "      <th>Pclass</th>\n",
              "      <th>Name</th>\n",
              "      <th>Sex</th>\n",
              "      <th>Age</th>\n",
              "      <th>SibSp</th>\n",
              "      <th>Parch</th>\n",
              "      <th>Ticket</th>\n",
              "      <th>Fare</th>\n",
              "      <th>Cabin</th>\n",
              "      <th>Embarked</th>\n",
              "    </tr>\n",
              "  </thead>\n",
              "  <tbody>\n",
              "    <tr>\n",
              "      <th>0</th>\n",
              "      <td>892</td>\n",
              "      <td>3</td>\n",
              "      <td>Kelly, Mr. James</td>\n",
              "      <td>male</td>\n",
              "      <td>34.5</td>\n",
              "      <td>0</td>\n",
              "      <td>0</td>\n",
              "      <td>330911</td>\n",
              "      <td>7.8292</td>\n",
              "      <td>NaN</td>\n",
              "      <td>Q</td>\n",
              "    </tr>\n",
              "    <tr>\n",
              "      <th>1</th>\n",
              "      <td>893</td>\n",
              "      <td>3</td>\n",
              "      <td>Wilkes, Mrs. James (Ellen Needs)</td>\n",
              "      <td>female</td>\n",
              "      <td>47.0</td>\n",
              "      <td>1</td>\n",
              "      <td>0</td>\n",
              "      <td>363272</td>\n",
              "      <td>7.0000</td>\n",
              "      <td>NaN</td>\n",
              "      <td>S</td>\n",
              "    </tr>\n",
              "    <tr>\n",
              "      <th>2</th>\n",
              "      <td>894</td>\n",
              "      <td>2</td>\n",
              "      <td>Myles, Mr. Thomas Francis</td>\n",
              "      <td>male</td>\n",
              "      <td>62.0</td>\n",
              "      <td>0</td>\n",
              "      <td>0</td>\n",
              "      <td>240276</td>\n",
              "      <td>9.6875</td>\n",
              "      <td>NaN</td>\n",
              "      <td>Q</td>\n",
              "    </tr>\n",
              "    <tr>\n",
              "      <th>3</th>\n",
              "      <td>895</td>\n",
              "      <td>3</td>\n",
              "      <td>Wirz, Mr. Albert</td>\n",
              "      <td>male</td>\n",
              "      <td>27.0</td>\n",
              "      <td>0</td>\n",
              "      <td>0</td>\n",
              "      <td>315154</td>\n",
              "      <td>8.6625</td>\n",
              "      <td>NaN</td>\n",
              "      <td>S</td>\n",
              "    </tr>\n",
              "    <tr>\n",
              "      <th>4</th>\n",
              "      <td>896</td>\n",
              "      <td>3</td>\n",
              "      <td>Hirvonen, Mrs. Alexander (Helga E Lindqvist)</td>\n",
              "      <td>female</td>\n",
              "      <td>22.0</td>\n",
              "      <td>1</td>\n",
              "      <td>1</td>\n",
              "      <td>3101298</td>\n",
              "      <td>12.2875</td>\n",
              "      <td>NaN</td>\n",
              "      <td>S</td>\n",
              "    </tr>\n",
              "  </tbody>\n",
              "</table>\n",
              "</div>"
            ],
            "text/plain": [
              "   PassengerId  Pclass  ... Cabin Embarked\n",
              "0          892       3  ...   NaN        Q\n",
              "1          893       3  ...   NaN        S\n",
              "2          894       2  ...   NaN        Q\n",
              "3          895       3  ...   NaN        S\n",
              "4          896       3  ...   NaN        S\n",
              "\n",
              "[5 rows x 11 columns]"
            ]
          },
          "metadata": {},
          "execution_count": 205
        }
      ]
    },
    {
      "cell_type": "code",
      "metadata": {
        "scrolled": true,
        "colab": {
          "base_uri": "https://localhost:8080/"
        },
        "id": "b62cb19d",
        "outputId": "382bb679-26cd-4fe8-b235-834b57011adc"
      },
      "source": [
        "#n. de linhas e colunas\n",
        "df_test.shape"
      ],
      "id": "b62cb19d",
      "execution_count": 206,
      "outputs": [
        {
          "output_type": "execute_result",
          "data": {
            "text/plain": [
              "(418, 11)"
            ]
          },
          "metadata": {},
          "execution_count": 206
        }
      ]
    },
    {
      "cell_type": "code",
      "metadata": {
        "colab": {
          "base_uri": "https://localhost:8080/",
          "height": 297
        },
        "id": "f4c083bd",
        "outputId": "1222334d-3e2e-450f-fbbe-727d3a98fd61"
      },
      "source": [
        "#Detalhamento do conjunto de test\n",
        "df_test.describe()"
      ],
      "id": "f4c083bd",
      "execution_count": 207,
      "outputs": [
        {
          "output_type": "execute_result",
          "data": {
            "text/html": [
              "<div>\n",
              "<style scoped>\n",
              "    .dataframe tbody tr th:only-of-type {\n",
              "        vertical-align: middle;\n",
              "    }\n",
              "\n",
              "    .dataframe tbody tr th {\n",
              "        vertical-align: top;\n",
              "    }\n",
              "\n",
              "    .dataframe thead th {\n",
              "        text-align: right;\n",
              "    }\n",
              "</style>\n",
              "<table border=\"1\" class=\"dataframe\">\n",
              "  <thead>\n",
              "    <tr style=\"text-align: right;\">\n",
              "      <th></th>\n",
              "      <th>PassengerId</th>\n",
              "      <th>Pclass</th>\n",
              "      <th>Age</th>\n",
              "      <th>SibSp</th>\n",
              "      <th>Parch</th>\n",
              "      <th>Fare</th>\n",
              "    </tr>\n",
              "  </thead>\n",
              "  <tbody>\n",
              "    <tr>\n",
              "      <th>count</th>\n",
              "      <td>418.000000</td>\n",
              "      <td>418.000000</td>\n",
              "      <td>332.000000</td>\n",
              "      <td>418.000000</td>\n",
              "      <td>418.000000</td>\n",
              "      <td>417.000000</td>\n",
              "    </tr>\n",
              "    <tr>\n",
              "      <th>mean</th>\n",
              "      <td>1100.500000</td>\n",
              "      <td>2.265550</td>\n",
              "      <td>30.272590</td>\n",
              "      <td>0.447368</td>\n",
              "      <td>0.392344</td>\n",
              "      <td>35.627188</td>\n",
              "    </tr>\n",
              "    <tr>\n",
              "      <th>std</th>\n",
              "      <td>120.810458</td>\n",
              "      <td>0.841838</td>\n",
              "      <td>14.181209</td>\n",
              "      <td>0.896760</td>\n",
              "      <td>0.981429</td>\n",
              "      <td>55.907576</td>\n",
              "    </tr>\n",
              "    <tr>\n",
              "      <th>min</th>\n",
              "      <td>892.000000</td>\n",
              "      <td>1.000000</td>\n",
              "      <td>0.170000</td>\n",
              "      <td>0.000000</td>\n",
              "      <td>0.000000</td>\n",
              "      <td>0.000000</td>\n",
              "    </tr>\n",
              "    <tr>\n",
              "      <th>25%</th>\n",
              "      <td>996.250000</td>\n",
              "      <td>1.000000</td>\n",
              "      <td>21.000000</td>\n",
              "      <td>0.000000</td>\n",
              "      <td>0.000000</td>\n",
              "      <td>7.895800</td>\n",
              "    </tr>\n",
              "    <tr>\n",
              "      <th>50%</th>\n",
              "      <td>1100.500000</td>\n",
              "      <td>3.000000</td>\n",
              "      <td>27.000000</td>\n",
              "      <td>0.000000</td>\n",
              "      <td>0.000000</td>\n",
              "      <td>14.454200</td>\n",
              "    </tr>\n",
              "    <tr>\n",
              "      <th>75%</th>\n",
              "      <td>1204.750000</td>\n",
              "      <td>3.000000</td>\n",
              "      <td>39.000000</td>\n",
              "      <td>1.000000</td>\n",
              "      <td>0.000000</td>\n",
              "      <td>31.500000</td>\n",
              "    </tr>\n",
              "    <tr>\n",
              "      <th>max</th>\n",
              "      <td>1309.000000</td>\n",
              "      <td>3.000000</td>\n",
              "      <td>76.000000</td>\n",
              "      <td>8.000000</td>\n",
              "      <td>9.000000</td>\n",
              "      <td>512.329200</td>\n",
              "    </tr>\n",
              "  </tbody>\n",
              "</table>\n",
              "</div>"
            ],
            "text/plain": [
              "       PassengerId      Pclass         Age       SibSp       Parch        Fare\n",
              "count   418.000000  418.000000  332.000000  418.000000  418.000000  417.000000\n",
              "mean   1100.500000    2.265550   30.272590    0.447368    0.392344   35.627188\n",
              "std     120.810458    0.841838   14.181209    0.896760    0.981429   55.907576\n",
              "min     892.000000    1.000000    0.170000    0.000000    0.000000    0.000000\n",
              "25%     996.250000    1.000000   21.000000    0.000000    0.000000    7.895800\n",
              "50%    1100.500000    3.000000   27.000000    0.000000    0.000000   14.454200\n",
              "75%    1204.750000    3.000000   39.000000    1.000000    0.000000   31.500000\n",
              "max    1309.000000    3.000000   76.000000    8.000000    9.000000  512.329200"
            ]
          },
          "metadata": {},
          "execution_count": 207
        }
      ]
    },
    {
      "cell_type": "code",
      "metadata": {
        "scrolled": true,
        "colab": {
          "base_uri": "https://localhost:8080/",
          "height": 1000
        },
        "id": "8c338ae1",
        "outputId": "c1a06695-1abc-4178-e1c6-cc52762c3dc9"
      },
      "source": [
        "#Vizualizando graficamente o DF_train\n",
        "a=sns.pairplot(df_train, hue='Survived', markers='+')\n",
        "plt.show()"
      ],
      "id": "8c338ae1",
      "execution_count": 208,
      "outputs": [
        {
          "output_type": "display_data",
          "data": {
            "image/png": "[encoded data removed]",
            "text/plain": [
              "<Figure size 1131.88x1080 with 42 Axes>"
            ]
          },
          "metadata": {
            "needs_background": "light"
          }
        }
      ]
    },
    {
      "cell_type": "code",
      "metadata": {
        "scrolled": true,
        "colab": {
          "base_uri": "https://localhost:8080/"
        },
        "id": "f9d861be",
        "outputId": "8eb6f376-e8cb-45a1-ad41-2d5152767247"
      },
      "source": [
        "# Checando valores nulos no df_train\n",
        "df_train.isnull().sum()"
      ],
      "id": "f9d861be",
      "execution_count": 209,
      "outputs": [
        {
          "output_type": "execute_result",
          "data": {
            "text/plain": [
              "PassengerId      0\n",
              "Survived         0\n",
              "Pclass           0\n",
              "Name             0\n",
              "Sex              0\n",
              "Age            177\n",
              "SibSp            0\n",
              "Parch            0\n",
              "Ticket           0\n",
              "Fare             0\n",
              "Cabin          687\n",
              "Embarked         2\n",
              "dtype: int64"
            ]
          },
          "metadata": {},
          "execution_count": 209
        }
      ]
    },
    {
      "cell_type": "code",
      "metadata": {
        "colab": {
          "base_uri": "https://localhost:8080/"
        },
        "id": "9e548a38",
        "outputId": "6adb3962-e097-4515-a78f-55d02dd8e462"
      },
      "source": [
        "# Checando valores nulos no df_test\n",
        "df_test.isnull().sum()"
      ],
      "id": "9e548a38",
      "execution_count": 210,
      "outputs": [
        {
          "output_type": "execute_result",
          "data": {
            "text/plain": [
              "PassengerId      0\n",
              "Pclass           0\n",
              "Name             0\n",
              "Sex              0\n",
              "Age             86\n",
              "SibSp            0\n",
              "Parch            0\n",
              "Ticket           0\n",
              "Fare             1\n",
              "Cabin          327\n",
              "Embarked         0\n",
              "dtype: int64"
            ]
          },
          "metadata": {},
          "execution_count": 210
        }
      ]
    },
    {
      "cell_type": "code",
      "metadata": {
        "colab": {
          "base_uri": "https://localhost:8080/",
          "height": 419
        },
        "id": "808a8e76",
        "outputId": "bd418056-a5d5-444f-aecf-4596e83607a0"
      },
      "source": [
        "# Escolhendo as features que serão usadas\n",
        "features = ['Pclass', 'Sex', 'Age', 'SibSp', 'Parch', 'Fare',]\n",
        "X = df_train.loc[: ,features]\n",
        "y = df_train['Survived']\n",
        "\n",
        "# Mapeando o Sexo para o tipo inteiro\n",
        "X['Sex'] = X['Sex'].map( {'male':1, 'female':0} )\n",
        "\n",
        "# Alterando as idades desconhecidas para a média das idades\n",
        "X['Age'] = X['Age'].fillna(28.0)\n",
        "X"
      ],
      "id": "808a8e76",
      "execution_count": 211,
      "outputs": [
        {
          "output_type": "execute_result",
          "data": {
            "text/html": [
              "<div>\n",
              "<style scoped>\n",
              "    .dataframe tbody tr th:only-of-type {\n",
              "        vertical-align: middle;\n",
              "    }\n",
              "\n",
              "    .dataframe tbody tr th {\n",
              "        vertical-align: top;\n",
              "    }\n",
              "\n",
              "    .dataframe thead th {\n",
              "        text-align: right;\n",
              "    }\n",
              "</style>\n",
              "<table border=\"1\" class=\"dataframe\">\n",
              "  <thead>\n",
              "    <tr style=\"text-align: right;\">\n",
              "      <th></th>\n",
              "      <th>Pclass</th>\n",
              "      <th>Sex</th>\n",
              "      <th>Age</th>\n",
              "      <th>SibSp</th>\n",
              "      <th>Parch</th>\n",
              "      <th>Fare</th>\n",
              "    </tr>\n",
              "  </thead>\n",
              "  <tbody>\n",
              "    <tr>\n",
              "      <th>0</th>\n",
              "      <td>3</td>\n",
              "      <td>1</td>\n",
              "      <td>22.0</td>\n",
              "      <td>1</td>\n",
              "      <td>0</td>\n",
              "      <td>7.2500</td>\n",
              "    </tr>\n",
              "    <tr>\n",
              "      <th>1</th>\n",
              "      <td>1</td>\n",
              "      <td>0</td>\n",
              "      <td>38.0</td>\n",
              "      <td>1</td>\n",
              "      <td>0</td>\n",
              "      <td>71.2833</td>\n",
              "    </tr>\n",
              "    <tr>\n",
              "      <th>2</th>\n",
              "      <td>3</td>\n",
              "      <td>0</td>\n",
              "      <td>26.0</td>\n",
              "      <td>0</td>\n",
              "      <td>0</td>\n",
              "      <td>7.9250</td>\n",
              "    </tr>\n",
              "    <tr>\n",
              "      <th>3</th>\n",
              "      <td>1</td>\n",
              "      <td>0</td>\n",
              "      <td>35.0</td>\n",
              "      <td>1</td>\n",
              "      <td>0</td>\n",
              "      <td>53.1000</td>\n",
              "    </tr>\n",
              "    <tr>\n",
              "      <th>4</th>\n",
              "      <td>3</td>\n",
              "      <td>1</td>\n",
              "      <td>35.0</td>\n",
              "      <td>0</td>\n",
              "      <td>0</td>\n",
              "      <td>8.0500</td>\n",
              "    </tr>\n",
              "    <tr>\n",
              "      <th>...</th>\n",
              "      <td>...</td>\n",
              "      <td>...</td>\n",
              "      <td>...</td>\n",
              "      <td>...</td>\n",
              "      <td>...</td>\n",
              "      <td>...</td>\n",
              "    </tr>\n",
              "    <tr>\n",
              "      <th>886</th>\n",
              "      <td>2</td>\n",
              "      <td>1</td>\n",
              "      <td>27.0</td>\n",
              "      <td>0</td>\n",
              "      <td>0</td>\n",
              "      <td>13.0000</td>\n",
              "    </tr>\n",
              "    <tr>\n",
              "      <th>887</th>\n",
              "      <td>1</td>\n",
              "      <td>0</td>\n",
              "      <td>19.0</td>\n",
              "      <td>0</td>\n",
              "      <td>0</td>\n",
              "      <td>30.0000</td>\n",
              "    </tr>\n",
              "    <tr>\n",
              "      <th>888</th>\n",
              "      <td>3</td>\n",
              "      <td>0</td>\n",
              "      <td>28.0</td>\n",
              "      <td>1</td>\n",
              "      <td>2</td>\n",
              "      <td>23.4500</td>\n",
              "    </tr>\n",
              "    <tr>\n",
              "      <th>889</th>\n",
              "      <td>1</td>\n",
              "      <td>1</td>\n",
              "      <td>26.0</td>\n",
              "      <td>0</td>\n",
              "      <td>0</td>\n",
              "      <td>30.0000</td>\n",
              "    </tr>\n",
              "    <tr>\n",
              "      <th>890</th>\n",
              "      <td>3</td>\n",
              "      <td>1</td>\n",
              "      <td>32.0</td>\n",
              "      <td>0</td>\n",
              "      <td>0</td>\n",
              "      <td>7.7500</td>\n",
              "    </tr>\n",
              "  </tbody>\n",
              "</table>\n",
              "<p>891 rows × 6 columns</p>\n",
              "</div>"
            ],
            "text/plain": [
              "     Pclass  Sex   Age  SibSp  Parch     Fare\n",
              "0         3    1  22.0      1      0   7.2500\n",
              "1         1    0  38.0      1      0  71.2833\n",
              "2         3    0  26.0      0      0   7.9250\n",
              "3         1    0  35.0      1      0  53.1000\n",
              "4         3    1  35.0      0      0   8.0500\n",
              "..      ...  ...   ...    ...    ...      ...\n",
              "886       2    1  27.0      0      0  13.0000\n",
              "887       1    0  19.0      0      0  30.0000\n",
              "888       3    0  28.0      1      2  23.4500\n",
              "889       1    1  26.0      0      0  30.0000\n",
              "890       3    1  32.0      0      0   7.7500\n",
              "\n",
              "[891 rows x 6 columns]"
            ]
          },
          "metadata": {},
          "execution_count": 211
        }
      ]
    },
    {
      "cell_type": "code",
      "metadata": {
        "id": "dc7de67d"
      },
      "source": [
        "train_X, val_X, train_y, val_y = train_test_split(X, y, random_state = 0)"
      ],
      "id": "dc7de67d",
      "execution_count": 212,
      "outputs": []
    },
    {
      "cell_type": "markdown",
      "metadata": {
        "id": "5fMMSBi1HTkd"
      },
      "source": [
        "**DecisionTreeClassifier with Default Parameters (max_depth=16, min_samples_split=2)**"
      ],
      "id": "5fMMSBi1HTkd"
    },
    {
      "cell_type": "code",
      "metadata": {
        "scrolled": true,
        "colab": {
          "base_uri": "https://localhost:8080/"
        },
        "id": "631d142e",
        "outputId": "8059eca4-a79c-4d91-eb74-01c76bf8218a"
      },
      "source": [
        "#importando Classificador e treinando modelo\n",
        "decisionTreeClf = DecisionTreeClassifier(random_state=0)\n",
        "decisionTreeClf.fit(train_X,train_y)"
      ],
      "id": "631d142e",
      "execution_count": 213,
      "outputs": [
        {
          "output_type": "execute_result",
          "data": {
            "text/plain": [
              "DecisionTreeClassifier(ccp_alpha=0.0, class_weight=None, criterion='gini',\n",
              "                       max_depth=None, max_features=None, max_leaf_nodes=None,\n",
              "                       min_impurity_decrease=0.0, min_impurity_split=None,\n",
              "                       min_samples_leaf=1, min_samples_split=2,\n",
              "                       min_weight_fraction_leaf=0.0, presort='deprecated',\n",
              "                       random_state=0, splitter='best')"
            ]
          },
          "metadata": {},
          "execution_count": 213
        }
      ]
    },
    {
      "cell_type": "code",
      "metadata": {
        "colab": {
          "base_uri": "https://localhost:8080/"
        },
        "id": "9b56e665",
        "outputId": "2c6304f5-7f5b-4a6c-e2c8-eaf9e050f677"
      },
      "source": [
        "#Tamanho da árvore\n",
        "decisionTreeClf.get_depth()"
      ],
      "id": "9b56e665",
      "execution_count": 214,
      "outputs": [
        {
          "output_type": "execute_result",
          "data": {
            "text/plain": [
              "18"
            ]
          },
          "metadata": {},
          "execution_count": 214
        }
      ]
    },
    {
      "cell_type": "code",
      "metadata": {
        "colab": {
          "base_uri": "https://localhost:8080/",
          "height": 1000
        },
        "id": "282459bb",
        "outputId": "f10445e8-0e37-43e1-8eae-31edafeb6fab"
      },
      "source": [
        "#Plotando a árvore de decisão\n",
        "tree.plot_tree(decisionTreeClf)"
      ],
      "id": "282459bb",
      "execution_count": 215,
      "outputs": [
        {
          "output_type": "execute_result",
          "data": {
            "text/plain": [
              "[Text(110.1497895773639, 211.7178947368421, 'X[1] <= 0.5\\ngini = 0.474\\nsamples = 668\\nvalue = [410, 258]'),\n",
              " Text(53.32177650429799, 200.2736842105263, 'X[0] <= 2.5\\ngini = 0.372\\nsamples = 231\\nvalue = [57, 174]'),\n",
              " Text(25.58166189111748, 188.82947368421054, 'X[2] <= 2.5\\ngini = 0.116\\nsamples = 129\\nvalue = [8, 121]'),\n",
              " Text(23.023495702005732, 177.38526315789474, 'gini = 0.0\\nsamples = 1\\nvalue = [1, 0]'),\n",
              " Text(28.13982808022923, 177.38526315789474, 'X[5] <= 28.856\\ngini = 0.103\\nsamples = 128\\nvalue = [7, 121]'),\n",
              " Text(23.023495702005732, 165.94105263157894, 'X[5] <= 28.231\\ngini = 0.201\\nsamples = 53\\nvalue = [6, 47]'),\n",
              " Text(20.465329512893984, 154.49684210526317, 'X[2] <= 56.0\\ngini = 0.174\\nsamples = 52\\nvalue = [5, 47]'),\n",
              " Text(15.348997134670487, 143.05263157894737, 'X[4] <= 0.5\\ngini = 0.147\\nsamples = 50\\nvalue = [4, 46]'),\n",
              " Text(12.79083094555874, 131.60842105263157, 'X[2] <= 37.0\\ngini = 0.202\\nsamples = 35\\nvalue = [4, 31]'),\n",
              " Text(7.6744985673352435, 120.16421052631578, 'X[2] <= 27.5\\ngini = 0.142\\nsamples = 26\\nvalue = [2, 24]'),\n",
              " Text(5.116332378223496, 108.72, 'X[2] <= 23.5\\ngini = 0.32\\nsamples = 10\\nvalue = [2, 8]'),\n",
              " Text(2.558166189111748, 97.27578947368421, 'gini = 0.0\\nsamples = 5\\nvalue = [0, 5]'),\n",
              " Text(7.6744985673352435, 97.27578947368421, 'X[5] <= 17.429\\ngini = 0.48\\nsamples = 5\\nvalue = [2, 3]'),\n",
              " Text(5.116332378223496, 85.83157894736843, 'X[2] <= 25.5\\ngini = 0.375\\nsamples = 4\\nvalue = [1, 3]'),\n",
              " Text(2.558166189111748, 74.38736842105263, 'gini = 0.5\\nsamples = 2\\nvalue = [1, 1]'),\n",
              " Text(7.6744985673352435, 74.38736842105263, 'gini = 0.0\\nsamples = 2\\nvalue = [0, 2]'),\n",
              " Text(10.232664756446992, 85.83157894736843, 'gini = 0.0\\nsamples = 1\\nvalue = [1, 0]'),\n",
              " Text(10.232664756446992, 108.72, 'gini = 0.0\\nsamples = 16\\nvalue = [0, 16]'),\n",
              " Text(17.907163323782235, 120.16421052631578, 'X[3] <= 0.5\\ngini = 0.346\\nsamples = 9\\nvalue = [2, 7]'),\n",
              " Text(15.348997134670487, 108.72, 'X[2] <= 39.0\\ngini = 0.219\\nsamples = 8\\nvalue = [1, 7]'),\n",
              " Text(12.79083094555874, 97.27578947368421, 'gini = 0.0\\nsamples = 1\\nvalue = [1, 0]'),\n",
              " Text(17.907163323782235, 97.27578947368421, 'gini = 0.0\\nsamples = 7\\nvalue = [0, 7]'),\n",
              " Text(20.465329512893984, 108.72, 'gini = 0.0\\nsamples = 1\\nvalue = [1, 0]'),\n",
              " Text(17.907163323782235, 131.60842105263157, 'gini = 0.0\\nsamples = 15\\nvalue = [0, 15]'),\n",
              " Text(25.58166189111748, 143.05263157894737, 'X[5] <= 18.525\\ngini = 0.5\\nsamples = 2\\nvalue = [1, 1]'),\n",
              " Text(23.023495702005732, 131.60842105263157, 'gini = 0.0\\nsamples = 1\\nvalue = [1, 0]'),\n",
              " Text(28.13982808022923, 131.60842105263157, 'gini = 0.0\\nsamples = 1\\nvalue = [0, 1]'),\n",
              " Text(25.58166189111748, 154.49684210526317, 'gini = 0.0\\nsamples = 1\\nvalue = [1, 0]'),\n",
              " Text(33.256160458452726, 165.94105263157894, 'X[5] <= 149.035\\ngini = 0.026\\nsamples = 75\\nvalue = [1, 74]'),\n",
              " Text(30.697994269340974, 154.49684210526317, 'gini = 0.0\\nsamples = 65\\nvalue = [0, 65]'),\n",
              " Text(35.81432664756447, 154.49684210526317, 'X[5] <= 152.506\\ngini = 0.18\\nsamples = 10\\nvalue = [1, 9]'),\n",
              " Text(33.256160458452726, 143.05263157894737, 'gini = 0.0\\nsamples = 1\\nvalue = [1, 0]'),\n",
              " Text(38.37249283667622, 143.05263157894737, 'gini = 0.0\\nsamples = 9\\nvalue = [0, 9]'),\n",
              " Text(81.06189111747851, 188.82947368421054, 'X[5] <= 23.35\\ngini = 0.499\\nsamples = 102\\nvalue = [49, 53]'),\n",
              " Text(66.83209169054442, 177.38526315789474, 'X[2] <= 38.5\\ngini = 0.469\\nsamples = 80\\nvalue = [30, 50]'),\n",
              " Text(64.27392550143267, 165.94105263157894, 'X[5] <= 7.888\\ngini = 0.455\\nsamples = 77\\nvalue = [27, 50]'),\n",
              " Text(46.046991404011465, 154.49684210526317, 'X[2] <= 29.25\\ngini = 0.358\\nsamples = 30\\nvalue = [7, 23]'),\n",
              " Text(43.48882521489971, 143.05263157894737, 'X[4] <= 1.0\\ngini = 0.293\\nsamples = 28\\nvalue = [5, 23]'),\n",
              " Text(40.93065902578797, 131.60842105263157, 'X[5] <= 7.64\\ngini = 0.252\\nsamples = 27\\nvalue = [4, 23]'),\n",
              " Text(31.97707736389685, 120.16421052631578, 'X[2] <= 25.5\\ngini = 0.444\\nsamples = 6\\nvalue = [2, 4]'),\n",
              " Text(29.4189111747851, 108.72, 'gini = 0.0\\nsamples = 3\\nvalue = [0, 3]'),\n",
              " Text(34.5352435530086, 108.72, 'X[5] <= 7.388\\ngini = 0.444\\nsamples = 3\\nvalue = [2, 1]'),\n",
              " Text(31.97707736389685, 97.27578947368421, 'gini = 0.0\\nsamples = 1\\nvalue = [0, 1]'),\n",
              " Text(37.09340974212034, 97.27578947368421, 'gini = 0.0\\nsamples = 2\\nvalue = [2, 0]'),\n",
              " Text(49.88424068767909, 120.16421052631578, 'X[2] <= 18.5\\ngini = 0.172\\nsamples = 21\\nvalue = [2, 19]'),\n",
              " Text(44.76790830945559, 108.72, 'X[5] <= 7.763\\ngini = 0.5\\nsamples = 2\\nvalue = [1, 1]'),\n",
              " Text(42.20974212034384, 97.27578947368421, 'gini = 0.0\\nsamples = 1\\nvalue = [0, 1]'),\n",
              " Text(47.32607449856734, 97.27578947368421, 'gini = 0.0\\nsamples = 1\\nvalue = [1, 0]'),\n",
              " Text(55.00057306590258, 108.72, 'X[2] <= 25.5\\ngini = 0.1\\nsamples = 19\\nvalue = [1, 18]'),\n",
              " Text(52.442406876790834, 97.27578947368421, 'X[2] <= 23.5\\ngini = 0.278\\nsamples = 6\\nvalue = [1, 5]'),\n",
              " Text(49.88424068767909, 85.83157894736843, 'gini = 0.0\\nsamples = 5\\nvalue = [0, 5]'),\n",
              " Text(55.00057306590258, 85.83157894736843, 'gini = 0.0\\nsamples = 1\\nvalue = [1, 0]'),\n",
              " Text(57.55873925501433, 97.27578947368421, 'gini = 0.0\\nsamples = 13\\nvalue = [0, 13]'),\n",
              " Text(46.046991404011465, 131.60842105263157, 'gini = 0.0\\nsamples = 1\\nvalue = [1, 0]'),\n",
              " Text(48.60515759312321, 143.05263157894737, 'gini = 0.0\\nsamples = 2\\nvalue = [2, 0]'),\n",
              " Text(82.50085959885388, 154.49684210526317, 'X[4] <= 1.5\\ngini = 0.489\\nsamples = 47\\nvalue = [20, 27]'),\n",
              " Text(79.94269340974212, 143.05263157894737, 'X[5] <= 8.673\\ngini = 0.5\\nsamples = 41\\nvalue = [20, 21]'),\n",
              " Text(70.34957020057307, 131.60842105263157, 'X[5] <= 8.04\\ngini = 0.42\\nsamples = 10\\nvalue = [7, 3]'),\n",
              " Text(67.79140401146132, 120.16421052631578, 'X[3] <= 0.5\\ngini = 0.5\\nsamples = 6\\nvalue = [3, 3]'),\n",
              " Text(65.23323782234958, 108.72, 'X[2] <= 27.5\\ngini = 0.48\\nsamples = 5\\nvalue = [2, 3]'),\n",
              " Text(62.67507163323783, 97.27578947368421, 'X[2] <= 24.5\\ngini = 0.375\\nsamples = 4\\nvalue = [1, 3]'),\n",
              " Text(60.116905444126076, 85.83157894736843, 'X[2] <= 19.0\\ngini = 0.5\\nsamples = 2\\nvalue = [1, 1]'),\n",
              " Text(57.55873925501433, 74.38736842105263, 'gini = 0.0\\nsamples = 1\\nvalue = [0, 1]'),\n",
              " Text(62.67507163323783, 74.38736842105263, 'gini = 0.0\\nsamples = 1\\nvalue = [1, 0]'),\n",
              " Text(65.23323782234958, 85.83157894736843, 'gini = 0.0\\nsamples = 2\\nvalue = [0, 2]'),\n",
              " Text(67.79140401146132, 97.27578947368421, 'gini = 0.0\\nsamples = 1\\nvalue = [1, 0]'),\n",
              " Text(70.34957020057307, 108.72, 'gini = 0.0\\nsamples = 1\\nvalue = [1, 0]'),\n",
              " Text(72.90773638968481, 120.16421052631578, 'gini = 0.0\\nsamples = 4\\nvalue = [4, 0]'),\n",
              " Text(89.53581661891118, 131.60842105263157, 'X[2] <= 26.5\\ngini = 0.487\\nsamples = 31\\nvalue = [13, 18]'),\n",
              " Text(80.58223495702006, 120.16421052631578, 'X[2] <= 6.5\\ngini = 0.494\\nsamples = 18\\nvalue = [10, 8]'),\n",
              " Text(75.46590257879656, 108.72, 'X[5] <= 11.375\\ngini = 0.408\\nsamples = 7\\nvalue = [2, 5]'),\n",
              " Text(72.90773638968481, 97.27578947368421, 'gini = 0.0\\nsamples = 1\\nvalue = [1, 0]'),\n",
              " Text(78.02406876790832, 97.27578947368421, 'X[5] <= 20.167\\ngini = 0.278\\nsamples = 6\\nvalue = [1, 5]'),\n",
              " Text(75.46590257879656, 85.83157894736843, 'gini = 0.0\\nsamples = 5\\nvalue = [0, 5]'),\n",
              " Text(80.58223495702006, 85.83157894736843, 'gini = 0.0\\nsamples = 1\\nvalue = [1, 0]'),\n",
              " Text(85.69856733524355, 108.72, 'X[5] <= 10.179\\ngini = 0.397\\nsamples = 11\\nvalue = [8, 3]'),\n",
              " Text(83.14040114613181, 97.27578947368421, 'gini = 0.0\\nsamples = 2\\nvalue = [0, 2]'),\n",
              " Text(88.25673352435531, 97.27578947368421, 'X[2] <= 16.0\\ngini = 0.198\\nsamples = 9\\nvalue = [8, 1]'),\n",
              " Text(85.69856733524355, 85.83157894736843, 'X[2] <= 14.75\\ngini = 0.444\\nsamples = 3\\nvalue = [2, 1]'),\n",
              " Text(83.14040114613181, 74.38736842105263, 'gini = 0.0\\nsamples = 2\\nvalue = [2, 0]'),\n",
              " Text(88.25673352435531, 74.38736842105263, 'gini = 0.0\\nsamples = 1\\nvalue = [0, 1]'),\n",
              " Text(90.81489971346706, 85.83157894736843, 'gini = 0.0\\nsamples = 6\\nvalue = [6, 0]'),\n",
              " Text(98.48939828080229, 120.16421052631578, 'X[5] <= 15.8\\ngini = 0.355\\nsamples = 13\\nvalue = [3, 10]'),\n",
              " Text(95.93123209169055, 108.72, 'X[3] <= 0.5\\ngini = 0.49\\nsamples = 7\\nvalue = [3, 4]'),\n",
              " Text(93.3730659025788, 97.27578947368421, 'gini = 0.0\\nsamples = 2\\nvalue = [0, 2]'),\n",
              " Text(98.48939828080229, 97.27578947368421, 'X[4] <= 0.5\\ngini = 0.48\\nsamples = 5\\nvalue = [3, 2]'),\n",
              " Text(95.93123209169055, 85.83157894736843, 'X[5] <= 14.979\\ngini = 0.444\\nsamples = 3\\nvalue = [1, 2]'),\n",
              " Text(93.3730659025788, 74.38736842105263, 'gini = 0.0\\nsamples = 1\\nvalue = [1, 0]'),\n",
              " Text(98.48939828080229, 74.38736842105263, 'gini = 0.0\\nsamples = 2\\nvalue = [0, 2]'),\n",
              " Text(101.04756446991405, 85.83157894736843, 'gini = 0.0\\nsamples = 2\\nvalue = [2, 0]'),\n",
              " Text(101.04756446991405, 108.72, 'gini = 0.0\\nsamples = 6\\nvalue = [0, 6]'),\n",
              " Text(85.05902578796562, 143.05263157894737, 'gini = 0.0\\nsamples = 6\\nvalue = [0, 6]'),\n",
              " Text(69.39025787965616, 165.94105263157894, 'gini = 0.0\\nsamples = 3\\nvalue = [3, 0]'),\n",
              " Text(95.29169054441262, 177.38526315789474, 'X[4] <= 0.5\\ngini = 0.236\\nsamples = 22\\nvalue = [19, 3]'),\n",
              " Text(92.73352435530086, 165.94105263157894, 'gini = 0.0\\nsamples = 1\\nvalue = [0, 1]'),\n",
              " Text(97.84985673352436, 165.94105263157894, 'X[2] <= 5.5\\ngini = 0.172\\nsamples = 21\\nvalue = [19, 2]'),\n",
              " Text(92.73352435530086, 154.49684210526317, 'X[2] <= 3.5\\ngini = 0.5\\nsamples = 2\\nvalue = [1, 1]'),\n",
              " Text(90.17535816618911, 143.05263157894737, 'gini = 0.0\\nsamples = 1\\nvalue = [1, 0]'),\n",
              " Text(95.29169054441262, 143.05263157894737, 'gini = 0.0\\nsamples = 1\\nvalue = [0, 1]'),\n",
              " Text(102.96618911174785, 154.49684210526317, 'X[4] <= 4.0\\ngini = 0.1\\nsamples = 19\\nvalue = [18, 1]'),\n",
              " Text(100.4080229226361, 143.05263157894737, 'gini = 0.0\\nsamples = 15\\nvalue = [15, 0]'),\n",
              " Text(105.52435530085961, 143.05263157894737, 'X[2] <= 38.5\\ngini = 0.375\\nsamples = 4\\nvalue = [3, 1]'),\n",
              " Text(102.96618911174785, 131.60842105263157, 'gini = 0.0\\nsamples = 1\\nvalue = [0, 1]'),\n",
              " Text(108.08252148997136, 131.60842105263157, 'gini = 0.0\\nsamples = 3\\nvalue = [3, 0]'),\n",
              " Text(166.9778026504298, 200.2736842105263, 'X[2] <= 14.0\\ngini = 0.311\\nsamples = 437\\nvalue = [353, 84]'),\n",
              " Text(118.31518624641835, 188.82947368421054, 'X[3] <= 2.5\\ngini = 0.491\\nsamples = 30\\nvalue = [13, 17]'),\n",
              " Text(113.19885386819485, 177.38526315789474, 'X[4] <= 0.5\\ngini = 0.111\\nsamples = 17\\nvalue = [1, 16]'),\n",
              " Text(110.6406876790831, 165.94105263157894, 'X[3] <= 0.5\\ngini = 0.5\\nsamples = 2\\nvalue = [1, 1]'),\n",
              " Text(108.08252148997136, 154.49684210526317, 'gini = 0.0\\nsamples = 1\\nvalue = [1, 0]'),\n",
              " Text(113.19885386819485, 154.49684210526317, 'gini = 0.0\\nsamples = 1\\nvalue = [0, 1]'),\n",
              " Text(115.75702005730659, 165.94105263157894, 'gini = 0.0\\nsamples = 15\\nvalue = [0, 15]'),\n",
              " Text(123.43151862464184, 177.38526315789474, 'X[2] <= 3.5\\ngini = 0.142\\nsamples = 13\\nvalue = [12, 1]'),\n",
              " Text(120.8733524355301, 165.94105263157894, 'X[2] <= 2.5\\ngini = 0.278\\nsamples = 6\\nvalue = [5, 1]'),\n",
              " Text(118.31518624641835, 154.49684210526317, 'gini = 0.0\\nsamples = 5\\nvalue = [5, 0]'),\n",
              " Text(123.43151862464184, 154.49684210526317, 'gini = 0.0\\nsamples = 1\\nvalue = [0, 1]'),\n",
              " Text(125.98968481375358, 165.94105263157894, 'gini = 0.0\\nsamples = 7\\nvalue = [7, 0]'),\n",
              " Text(215.64041905444128, 188.82947368421054, 'X[0] <= 1.5\\ngini = 0.275\\nsamples = 407\\nvalue = [340, 67]'),\n",
              " Text(136.22234957020058, 177.38526315789474, 'X[2] <= 53.0\\ngini = 0.439\\nsamples = 89\\nvalue = [60, 29]'),\n",
              " Text(131.1060171919771, 165.94105263157894, 'X[5] <= 26.144\\ngini = 0.47\\nsamples = 74\\nvalue = [46, 28]'),\n",
              " Text(128.54785100286534, 154.49684210526317, 'gini = 0.0\\nsamples = 7\\nvalue = [7, 0]'),\n",
              " Text(133.66418338108883, 154.49684210526317, 'X[5] <= 27.135\\ngini = 0.487\\nsamples = 67\\nvalue = [39, 28]'),\n",
              " Text(122.47220630372493, 143.05263157894737, 'X[5] <= 26.469\\ngini = 0.278\\nsamples = 12\\nvalue = [2, 10]'),\n",
              " Text(119.91404011461319, 131.60842105263157, 'gini = 0.0\\nsamples = 4\\nvalue = [0, 4]'),\n",
              " Text(125.03037249283668, 131.60842105263157, 'X[2] <= 46.5\\ngini = 0.375\\nsamples = 8\\nvalue = [2, 6]'),\n",
              " Text(122.47220630372493, 120.16421052631578, 'X[2] <= 40.0\\ngini = 0.444\\nsamples = 6\\nvalue = [2, 4]'),\n",
              " Text(119.91404011461319, 108.72, 'X[2] <= 31.5\\ngini = 0.375\\nsamples = 4\\nvalue = [1, 3]'),\n",
              " Text(117.35587392550144, 97.27578947368421, 'gini = 0.444\\nsamples = 3\\nvalue = [1, 2]'),\n",
              " Text(122.47220630372493, 97.27578947368421, 'gini = 0.0\\nsamples = 1\\nvalue = [0, 1]'),\n",
              " Text(125.03037249283668, 108.72, 'gini = 0.5\\nsamples = 2\\nvalue = [1, 1]'),\n",
              " Text(127.58853868194844, 120.16421052631578, 'gini = 0.0\\nsamples = 2\\nvalue = [0, 2]'),\n",
              " Text(144.85616045845273, 143.05263157894737, 'X[5] <= 379.925\\ngini = 0.44\\nsamples = 55\\nvalue = [37, 18]'),\n",
              " Text(142.297994269341, 131.60842105263157, 'X[3] <= 0.5\\ngini = 0.422\\nsamples = 53\\nvalue = [37, 16]'),\n",
              " Text(135.26303724928368, 120.16421052631578, 'X[5] <= 37.0\\ngini = 0.298\\nsamples = 33\\nvalue = [27, 6]'),\n",
              " Text(130.14670487106017, 108.72, 'X[2] <= 27.5\\ngini = 0.459\\nsamples = 14\\nvalue = [9, 5]'),\n",
              " Text(127.58853868194844, 97.27578947368421, 'gini = 0.0\\nsamples = 2\\nvalue = [0, 2]'),\n",
              " Text(132.70487106017194, 97.27578947368421, 'X[2] <= 49.5\\ngini = 0.375\\nsamples = 12\\nvalue = [9, 3]'),\n",
              " Text(130.14670487106017, 85.83157894736843, 'X[5] <= 30.848\\ngini = 0.298\\nsamples = 11\\nvalue = [9, 2]'),\n",
              " Text(127.58853868194844, 74.38736842105263, 'gini = 0.0\\nsamples = 6\\nvalue = [6, 0]'),\n",
              " Text(132.70487106017194, 74.38736842105263, 'X[2] <= 42.5\\ngini = 0.48\\nsamples = 5\\nvalue = [3, 2]'),\n",
              " Text(130.14670487106017, 62.943157894736856, 'X[2] <= 34.0\\ngini = 0.444\\nsamples = 3\\nvalue = [1, 2]'),\n",
              " Text(127.58853868194844, 51.49894736842106, 'X[5] <= 35.25\\ngini = 0.5\\nsamples = 2\\nvalue = [1, 1]'),\n",
              " Text(125.03037249283668, 40.05473684210526, 'gini = 0.0\\nsamples = 1\\nvalue = [1, 0]'),\n",
              " Text(130.14670487106017, 40.05473684210526, 'gini = 0.0\\nsamples = 1\\nvalue = [0, 1]'),\n",
              " Text(132.70487106017194, 51.49894736842106, 'gini = 0.0\\nsamples = 1\\nvalue = [0, 1]'),\n",
              " Text(135.26303724928368, 62.943157894736856, 'gini = 0.0\\nsamples = 2\\nvalue = [2, 0]'),\n",
              " Text(135.26303724928368, 85.83157894736843, 'gini = 0.0\\nsamples = 1\\nvalue = [0, 1]'),\n",
              " Text(140.37936962750717, 108.72, 'X[2] <= 19.0\\ngini = 0.1\\nsamples = 19\\nvalue = [18, 1]'),\n",
              " Text(137.82120343839543, 97.27578947368421, 'gini = 0.0\\nsamples = 1\\nvalue = [0, 1]'),\n",
              " Text(142.93753581661892, 97.27578947368421, 'gini = 0.0\\nsamples = 18\\nvalue = [18, 0]'),\n",
              " Text(149.3329512893983, 120.16421052631578, 'X[5] <= 52.277\\ngini = 0.5\\nsamples = 20\\nvalue = [10, 10]'),\n",
              " Text(146.77478510028655, 108.72, 'gini = 0.0\\nsamples = 1\\nvalue = [1, 0]'),\n",
              " Text(151.89111747851004, 108.72, 'X[5] <= 52.827\\ngini = 0.499\\nsamples = 19\\nvalue = [9, 10]'),\n",
              " Text(149.3329512893983, 97.27578947368421, 'gini = 0.0\\nsamples = 2\\nvalue = [0, 2]'),\n",
              " Text(154.44928366762178, 97.27578947368421, 'X[5] <= 122.267\\ngini = 0.498\\nsamples = 17\\nvalue = [9, 8]'),\n",
              " Text(151.89111747851004, 85.83157894736843, 'X[2] <= 49.5\\ngini = 0.492\\nsamples = 16\\nvalue = [9, 7]'),\n",
              " Text(149.3329512893983, 74.38736842105263, 'X[2] <= 47.0\\ngini = 0.5\\nsamples = 14\\nvalue = [7, 7]'),\n",
              " Text(142.93753581661892, 62.943157894736856, 'X[5] <= 59.087\\ngini = 0.48\\nsamples = 10\\nvalue = [6, 4]'),\n",
              " Text(137.82120343839543, 51.49894736842106, 'X[5] <= 54.271\\ngini = 0.48\\nsamples = 5\\nvalue = [2, 3]'),\n",
              " Text(135.26303724928368, 40.05473684210526, 'X[2] <= 23.0\\ngini = 0.444\\nsamples = 3\\nvalue = [2, 1]'),\n",
              " Text(132.70487106017194, 28.610526315789485, 'gini = 0.0\\nsamples = 1\\nvalue = [1, 0]'),\n",
              " Text(137.82120343839543, 28.610526315789485, 'X[2] <= 32.0\\ngini = 0.5\\nsamples = 2\\nvalue = [1, 1]'),\n",
              " Text(135.26303724928368, 17.166315789473686, 'gini = 0.0\\nsamples = 1\\nvalue = [0, 1]'),\n",
              " Text(140.37936962750717, 17.166315789473686, 'gini = 0.0\\nsamples = 1\\nvalue = [1, 0]'),\n",
              " Text(140.37936962750717, 40.05473684210526, 'gini = 0.0\\nsamples = 2\\nvalue = [0, 2]'),\n",
              " Text(148.0538681948424, 51.49894736842106, 'X[5] <= 84.425\\ngini = 0.32\\nsamples = 5\\nvalue = [4, 1]'),\n",
              " Text(145.49570200573066, 40.05473684210526, 'gini = 0.0\\nsamples = 3\\nvalue = [3, 0]'),\n",
              " Text(150.61203438395415, 40.05473684210526, 'X[2] <= 41.0\\ngini = 0.5\\nsamples = 2\\nvalue = [1, 1]'),\n",
              " Text(148.0538681948424, 28.610526315789485, 'gini = 0.0\\nsamples = 1\\nvalue = [0, 1]'),\n",
              " Text(153.1702005730659, 28.610526315789485, 'gini = 0.0\\nsamples = 1\\nvalue = [1, 0]'),\n",
              " Text(155.72836676217767, 62.943157894736856, 'X[5] <= 99.994\\ngini = 0.375\\nsamples = 4\\nvalue = [1, 3]'),\n",
              " Text(153.1702005730659, 51.49894736842106, 'gini = 0.0\\nsamples = 3\\nvalue = [0, 3]'),\n",
              " Text(158.28653295128942, 51.49894736842106, 'gini = 0.0\\nsamples = 1\\nvalue = [1, 0]'),\n",
              " Text(154.44928366762178, 74.38736842105263, 'gini = 0.0\\nsamples = 2\\nvalue = [2, 0]'),\n",
              " Text(157.00744985673353, 85.83157894736843, 'gini = 0.0\\nsamples = 1\\nvalue = [0, 1]'),\n",
              " Text(147.41432664756448, 131.60842105263157, 'gini = 0.0\\nsamples = 2\\nvalue = [0, 2]'),\n",
              " Text(141.33868194842407, 165.94105263157894, 'X[2] <= 75.5\\ngini = 0.124\\nsamples = 15\\nvalue = [14, 1]'),\n",
              " Text(138.78051575931232, 154.49684210526317, 'gini = 0.0\\nsamples = 14\\nvalue = [14, 0]'),\n",
              " Text(143.8968481375358, 154.49684210526317, 'gini = 0.0\\nsamples = 1\\nvalue = [0, 1]'),\n",
              " Text(295.05848853868196, 177.38526315789474, 'X[2] <= 32.5\\ngini = 0.21\\nsamples = 318\\nvalue = [280, 38]'),\n",
              " Text(275.7823065902579, 165.94105263157894, 'X[2] <= 30.75\\ngini = 0.242\\nsamples = 234\\nvalue = [201, 33]'),\n",
              " Text(262.81160458452723, 154.49684210526317, 'X[3] <= 1.5\\ngini = 0.209\\nsamples = 219\\nvalue = [193, 26]'),\n",
              " Text(260.25343839541546, 143.05263157894737, 'X[4] <= 0.5\\ngini = 0.22\\nsamples = 207\\nvalue = [181, 26]'),\n",
              " Text(244.54469914040115, 131.60842105263157, 'X[5] <= 42.108\\ngini = 0.206\\nsamples = 197\\nvalue = [174, 23]'),\n",
              " Text(225.91805157593123, 120.16421052631578, 'X[2] <= 28.75\\ngini = 0.196\\nsamples = 191\\nvalue = [170, 21]'),\n",
              " Text(196.33925501432665, 108.72, 'X[5] <= 7.798\\ngini = 0.18\\nsamples = 170\\nvalue = [153, 17]'),\n",
              " Text(176.8332378223496, 97.27578947368421, 'X[5] <= 7.785\\ngini = 0.242\\nsamples = 64\\nvalue = [55, 9]'),\n",
              " Text(169.79828080229228, 85.83157894736843, 'X[2] <= 21.5\\ngini = 0.209\\nsamples = 59\\nvalue = [52, 7]'),\n",
              " Text(167.24011461318054, 74.38736842105263, 'gini = 0.0\\nsamples = 11\\nvalue = [11, 0]'),\n",
              " Text(172.35644699140403, 74.38736842105263, 'X[2] <= 27.5\\ngini = 0.249\\nsamples = 48\\nvalue = [41, 7]'),\n",
              " Text(165.96103151862465, 62.943157894736856, 'X[5] <= 7.227\\ngini = 0.391\\nsamples = 15\\nvalue = [11, 4]'),\n",
              " Text(163.4028653295129, 51.49894736842106, 'X[5] <= 7.013\\ngini = 0.444\\nsamples = 6\\nvalue = [2, 4]'),\n",
              " Text(160.84469914040116, 40.05473684210526, 'gini = 0.0\\nsamples = 2\\nvalue = [0, 2]'),\n",
              " Text(165.96103151862465, 40.05473684210526, 'X[5] <= 7.133\\ngini = 0.5\\nsamples = 4\\nvalue = [2, 2]'),\n",
              " Text(163.4028653295129, 28.610526315789485, 'gini = 0.0\\nsamples = 2\\nvalue = [2, 0]'),\n",
              " Text(168.5191977077364, 28.610526315789485, 'gini = 0.0\\nsamples = 2\\nvalue = [0, 2]'),\n",
              " Text(168.5191977077364, 51.49894736842106, 'gini = 0.0\\nsamples = 9\\nvalue = [9, 0]'),\n",
              " Text(178.7518624641834, 62.943157894736856, 'X[5] <= 7.763\\ngini = 0.165\\nsamples = 33\\nvalue = [30, 3]'),\n",
              " Text(176.19369627507163, 51.49894736842106, 'X[5] <= 7.227\\ngini = 0.121\\nsamples = 31\\nvalue = [29, 2]'),\n",
              " Text(173.63553008595989, 40.05473684210526, 'gini = 0.0\\nsamples = 11\\nvalue = [11, 0]'),\n",
              " Text(178.7518624641834, 40.05473684210526, 'X[5] <= 7.24\\ngini = 0.18\\nsamples = 20\\nvalue = [18, 2]'),\n",
              " Text(173.63553008595989, 28.610526315789485, 'X[2] <= 28.25\\ngini = 0.278\\nsamples = 6\\nvalue = [5, 1]'),\n",
              " Text(171.07736389684814, 17.166315789473686, 'gini = 0.32\\nsamples = 5\\nvalue = [4, 1]'),\n",
              " Text(176.19369627507163, 17.166315789473686, 'gini = 0.0\\nsamples = 1\\nvalue = [1, 0]'),\n",
              " Text(183.8681948424069, 28.610526315789485, 'X[5] <= 7.742\\ngini = 0.133\\nsamples = 14\\nvalue = [13, 1]'),\n",
              " Text(181.31002865329515, 17.166315789473686, 'gini = 0.0\\nsamples = 6\\nvalue = [6, 0]'),\n",
              " Text(186.42636103151864, 17.166315789473686, 'gini = 0.219\\nsamples = 8\\nvalue = [7, 1]'),\n",
              " Text(181.31002865329515, 51.49894736842106, 'gini = 0.5\\nsamples = 2\\nvalue = [1, 1]'),\n",
              " Text(183.8681948424069, 85.83157894736843, 'X[2] <= 19.5\\ngini = 0.48\\nsamples = 5\\nvalue = [3, 2]'),\n",
              " Text(181.31002865329515, 74.38736842105263, 'gini = 0.0\\nsamples = 1\\nvalue = [1, 0]'),\n",
              " Text(186.42636103151864, 74.38736842105263, 'X[2] <= 22.5\\ngini = 0.5\\nsamples = 4\\nvalue = [2, 2]'),\n",
              " Text(183.8681948424069, 62.943157894736856, 'gini = 0.0\\nsamples = 1\\nvalue = [0, 1]'),\n",
              " Text(188.98452722063038, 62.943157894736856, 'X[2] <= 25.5\\ngini = 0.444\\nsamples = 3\\nvalue = [2, 1]'),\n",
              " Text(186.42636103151864, 51.49894736842106, 'gini = 0.0\\nsamples = 1\\nvalue = [1, 0]'),\n",
              " Text(191.54269340974213, 51.49894736842106, 'X[2] <= 27.5\\ngini = 0.5\\nsamples = 2\\nvalue = [1, 1]'),\n",
              " Text(188.98452722063038, 40.05473684210526, 'gini = 0.0\\nsamples = 1\\nvalue = [0, 1]'),\n",
              " Text(194.10085959885387, 40.05473684210526, 'gini = 0.0\\nsamples = 1\\nvalue = [1, 0]'),\n",
              " Text(215.84527220630375, 97.27578947368421, 'X[5] <= 7.91\\ngini = 0.14\\nsamples = 106\\nvalue = [98, 8]'),\n",
              " Text(213.28710601719197, 85.83157894736843, 'gini = 0.0\\nsamples = 28\\nvalue = [28, 0]'),\n",
              " Text(218.4034383954155, 85.83157894736843, 'X[2] <= 25.5\\ngini = 0.184\\nsamples = 78\\nvalue = [70, 8]'),\n",
              " Text(209.44985673352437, 74.38736842105263, 'X[5] <= 8.104\\ngini = 0.127\\nsamples = 44\\nvalue = [41, 3]'),\n",
              " Text(204.33352435530088, 62.943157894736856, 'X[3] <= 0.5\\ngini = 0.346\\nsamples = 9\\nvalue = [7, 2]'),\n",
              " Text(201.77535816618914, 51.49894736842106, 'X[2] <= 18.0\\ngini = 0.219\\nsamples = 8\\nvalue = [7, 1]'),\n",
              " Text(199.21719197707736, 40.05473684210526, 'gini = 0.5\\nsamples = 2\\nvalue = [1, 1]'),\n",
              " Text(204.33352435530088, 40.05473684210526, 'gini = 0.0\\nsamples = 6\\nvalue = [6, 0]'),\n",
              " Text(206.89169054441263, 51.49894736842106, 'gini = 0.0\\nsamples = 1\\nvalue = [0, 1]'),\n",
              " Text(214.56618911174786, 62.943157894736856, 'X[2] <= 19.5\\ngini = 0.056\\nsamples = 35\\nvalue = [34, 1]'),\n",
              " Text(212.00802292263612, 51.49894736842106, 'X[2] <= 18.5\\ngini = 0.124\\nsamples = 15\\nvalue = [14, 1]'),\n",
              " Text(209.44985673352437, 40.05473684210526, 'gini = 0.0\\nsamples = 9\\nvalue = [9, 0]'),\n",
              " Text(214.56618911174786, 40.05473684210526, 'X[0] <= 2.5\\ngini = 0.278\\nsamples = 6\\nvalue = [5, 1]'),\n",
              " Text(212.00802292263612, 28.610526315789485, 'X[5] <= 11.75\\ngini = 0.444\\nsamples = 3\\nvalue = [2, 1]'),\n",
              " Text(209.44985673352437, 17.166315789473686, 'gini = 0.5\\nsamples = 2\\nvalue = [1, 1]'),\n",
              " Text(214.56618911174786, 17.166315789473686, 'gini = 0.0\\nsamples = 1\\nvalue = [1, 0]'),\n",
              " Text(217.1243553008596, 28.610526315789485, 'gini = 0.0\\nsamples = 3\\nvalue = [3, 0]'),\n",
              " Text(217.1243553008596, 51.49894736842106, 'gini = 0.0\\nsamples = 20\\nvalue = [20, 0]'),\n",
              " Text(227.3570200573066, 74.38736842105263, 'X[5] <= 8.081\\ngini = 0.251\\nsamples = 34\\nvalue = [29, 5]'),\n",
              " Text(224.79885386819484, 62.943157894736856, 'gini = 0.0\\nsamples = 9\\nvalue = [9, 0]'),\n",
              " Text(229.91518624641836, 62.943157894736856, 'X[5] <= 8.688\\ngini = 0.32\\nsamples = 25\\nvalue = [20, 5]'),\n",
              " Text(227.3570200573066, 51.49894736842106, 'gini = 0.0\\nsamples = 2\\nvalue = [0, 2]'),\n",
              " Text(232.4733524355301, 51.49894736842106, 'X[0] <= 2.5\\ngini = 0.227\\nsamples = 23\\nvalue = [20, 3]'),\n",
              " Text(224.79885386819484, 40.05473684210526, 'X[2] <= 27.5\\ngini = 0.444\\nsamples = 6\\nvalue = [4, 2]'),\n",
              " Text(222.2406876790831, 28.610526315789485, 'gini = 0.0\\nsamples = 3\\nvalue = [3, 0]'),\n",
              " Text(227.3570200573066, 28.610526315789485, 'X[5] <= 13.25\\ngini = 0.444\\nsamples = 3\\nvalue = [1, 2]'),\n",
              " Text(224.79885386819484, 17.166315789473686, 'gini = 0.0\\nsamples = 1\\nvalue = [0, 1]'),\n",
              " Text(229.91518624641836, 17.166315789473686, 'X[5] <= 13.681\\ngini = 0.5\\nsamples = 2\\nvalue = [1, 1]'),\n",
              " Text(227.3570200573066, 5.722105263157886, 'gini = 0.0\\nsamples = 1\\nvalue = [1, 0]'),\n",
              " Text(232.4733524355301, 5.722105263157886, 'gini = 0.0\\nsamples = 1\\nvalue = [0, 1]'),\n",
              " Text(240.14785100286534, 40.05473684210526, 'X[2] <= 26.5\\ngini = 0.111\\nsamples = 17\\nvalue = [16, 1]'),\n",
              " Text(237.5896848137536, 28.610526315789485, 'X[3] <= 0.5\\ngini = 0.5\\nsamples = 2\\nvalue = [1, 1]'),\n",
              " Text(235.03151862464185, 17.166315789473686, 'gini = 0.0\\nsamples = 1\\nvalue = [0, 1]'),\n",
              " Text(240.14785100286534, 17.166315789473686, 'gini = 0.0\\nsamples = 1\\nvalue = [1, 0]'),\n",
              " Text(242.70601719197708, 28.610526315789485, 'gini = 0.0\\nsamples = 15\\nvalue = [15, 0]'),\n",
              " Text(255.49684813753584, 108.72, 'X[5] <= 10.0\\ngini = 0.308\\nsamples = 21\\nvalue = [17, 4]'),\n",
              " Text(252.9386819484241, 97.27578947368421, 'X[5] <= 9.492\\ngini = 0.408\\nsamples = 14\\nvalue = [10, 4]'),\n",
              " Text(250.38051575931235, 85.83157894736843, 'X[2] <= 29.5\\ngini = 0.278\\nsamples = 12\\nvalue = [10, 2]'),\n",
              " Text(247.82234957020057, 74.38736842105263, 'X[5] <= 7.973\\ngini = 0.48\\nsamples = 5\\nvalue = [3, 2]'),\n",
              " Text(245.26418338108883, 62.943157894736856, 'X[5] <= 7.812\\ngini = 0.444\\nsamples = 3\\nvalue = [1, 2]'),\n",
              " Text(242.70601719197708, 51.49894736842106, 'gini = 0.0\\nsamples = 1\\nvalue = [0, 1]'),\n",
              " Text(247.82234957020057, 51.49894736842106, 'X[5] <= 7.885\\ngini = 0.5\\nsamples = 2\\nvalue = [1, 1]'),\n",
              " Text(245.26418338108883, 40.05473684210526, 'gini = 0.0\\nsamples = 1\\nvalue = [1, 0]'),\n",
              " Text(250.38051575931235, 40.05473684210526, 'gini = 0.0\\nsamples = 1\\nvalue = [0, 1]'),\n",
              " Text(250.38051575931235, 62.943157894736856, 'gini = 0.0\\nsamples = 2\\nvalue = [2, 0]'),\n",
              " Text(252.9386819484241, 74.38736842105263, 'gini = 0.0\\nsamples = 7\\nvalue = [7, 0]'),\n",
              " Text(255.49684813753584, 85.83157894736843, 'gini = 0.0\\nsamples = 2\\nvalue = [0, 2]'),\n",
              " Text(258.05501432664755, 97.27578947368421, 'gini = 0.0\\nsamples = 7\\nvalue = [7, 0]'),\n",
              " Text(263.1713467048711, 120.16421052631578, 'X[0] <= 2.5\\ngini = 0.444\\nsamples = 6\\nvalue = [4, 2]'),\n",
              " Text(260.6131805157593, 108.72, 'gini = 0.0\\nsamples = 2\\nvalue = [2, 0]'),\n",
              " Text(265.7295128939828, 108.72, 'X[2] <= 27.0\\ngini = 0.5\\nsamples = 4\\nvalue = [2, 2]'),\n",
              " Text(263.1713467048711, 97.27578947368421, 'gini = 0.0\\nsamples = 1\\nvalue = [0, 1]'),\n",
              " Text(268.2876790830946, 97.27578947368421, 'gini = 0.444\\nsamples = 3\\nvalue = [2, 1]'),\n",
              " Text(275.9621776504298, 131.60842105263157, 'X[5] <= 17.977\\ngini = 0.42\\nsamples = 10\\nvalue = [7, 3]'),\n",
              " Text(273.4040114613181, 120.16421052631578, 'X[2] <= 18.5\\ngini = 0.375\\nsamples = 4\\nvalue = [1, 3]'),\n",
              " Text(270.8458452722063, 108.72, 'gini = 0.0\\nsamples = 1\\nvalue = [1, 0]'),\n",
              " Text(275.9621776504298, 108.72, 'gini = 0.0\\nsamples = 3\\nvalue = [0, 3]'),\n",
              " Text(278.52034383954157, 120.16421052631578, 'gini = 0.0\\nsamples = 6\\nvalue = [6, 0]'),\n",
              " Text(265.369770773639, 143.05263157894737, 'gini = 0.0\\nsamples = 12\\nvalue = [12, 0]'),\n",
              " Text(288.75300859598855, 154.49684210526317, 'X[5] <= 7.815\\ngini = 0.498\\nsamples = 15\\nvalue = [8, 7]'),\n",
              " Text(286.19484240687683, 143.05263157894737, 'gini = 0.0\\nsamples = 2\\nvalue = [2, 0]'),\n",
              " Text(291.3111747851003, 143.05263157894737, 'X[3] <= 0.5\\ngini = 0.497\\nsamples = 13\\nvalue = [6, 7]'),\n",
              " Text(286.19484240687683, 131.60842105263157, 'X[5] <= 11.75\\ngini = 0.444\\nsamples = 9\\nvalue = [3, 6]'),\n",
              " Text(283.63667621776506, 120.16421052631578, 'X[5] <= 9.275\\ngini = 0.49\\nsamples = 7\\nvalue = [3, 4]'),\n",
              " Text(281.0785100286533, 108.72, 'X[5] <= 7.89\\ngini = 0.444\\nsamples = 6\\nvalue = [2, 4]'),\n",
              " Text(278.52034383954157, 97.27578947368421, 'gini = 0.0\\nsamples = 1\\nvalue = [0, 1]'),\n",
              " Text(283.63667621776506, 97.27578947368421, 'X[2] <= 31.5\\ngini = 0.48\\nsamples = 5\\nvalue = [2, 3]'),\n",
              " Text(281.0785100286533, 85.83157894736843, 'gini = 0.0\\nsamples = 1\\nvalue = [0, 1]'),\n",
              " Text(286.19484240687683, 85.83157894736843, 'X[5] <= 7.988\\ngini = 0.5\\nsamples = 4\\nvalue = [2, 2]'),\n",
              " Text(283.63667621776506, 74.38736842105263, 'gini = 0.444\\nsamples = 3\\nvalue = [2, 1]'),\n",
              " Text(288.75300859598855, 74.38736842105263, 'gini = 0.0\\nsamples = 1\\nvalue = [0, 1]'),\n",
              " Text(286.19484240687683, 108.72, 'gini = 0.0\\nsamples = 1\\nvalue = [1, 0]'),\n",
              " Text(288.75300859598855, 120.16421052631578, 'gini = 0.0\\nsamples = 2\\nvalue = [0, 2]'),\n",
              " Text(296.4275071633238, 131.60842105263157, 'X[5] <= 26.125\\ngini = 0.375\\nsamples = 4\\nvalue = [3, 1]'),\n",
              " Text(293.86934097421204, 120.16421052631578, 'X[0] <= 2.5\\ngini = 0.5\\nsamples = 2\\nvalue = [1, 1]'),\n",
              " Text(291.3111747851003, 108.72, 'gini = 0.0\\nsamples = 1\\nvalue = [0, 1]'),\n",
              " Text(296.4275071633238, 108.72, 'gini = 0.0\\nsamples = 1\\nvalue = [1, 0]'),\n",
              " Text(298.9856733524355, 120.16421052631578, 'gini = 0.0\\nsamples = 2\\nvalue = [2, 0]'),\n",
              " Text(314.33467048710605, 165.94105263157894, 'X[5] <= 7.91\\ngini = 0.112\\nsamples = 84\\nvalue = [79, 5]'),\n",
              " Text(311.7765042979943, 154.49684210526317, 'gini = 0.0\\nsamples = 26\\nvalue = [26, 0]'),\n",
              " Text(316.89283667621777, 154.49684210526317, 'X[5] <= 7.988\\ngini = 0.158\\nsamples = 58\\nvalue = [53, 5]'),\n",
              " Text(309.21833810888256, 143.05263157894737, 'X[3] <= 1.0\\ngini = 0.5\\nsamples = 4\\nvalue = [2, 2]'),\n",
              " Text(306.6601719197708, 131.60842105263157, 'X[2] <= 41.5\\ngini = 0.444\\nsamples = 3\\nvalue = [1, 2]'),\n",
              " Text(304.102005730659, 120.16421052631578, 'gini = 0.5\\nsamples = 2\\nvalue = [1, 1]'),\n",
              " Text(309.21833810888256, 120.16421052631578, 'gini = 0.0\\nsamples = 1\\nvalue = [0, 1]'),\n",
              " Text(311.7765042979943, 131.60842105263157, 'gini = 0.0\\nsamples = 1\\nvalue = [1, 0]'),\n",
              " Text(324.56733524355303, 143.05263157894737, 'X[5] <= 13.25\\ngini = 0.105\\nsamples = 54\\nvalue = [51, 3]'),\n",
              " Text(322.00916905444126, 131.60842105263157, 'X[5] <= 12.938\\ngini = 0.191\\nsamples = 28\\nvalue = [25, 3]'),\n",
              " Text(314.33467048710605, 120.16421052631578, 'X[2] <= 44.5\\ngini = 0.105\\nsamples = 18\\nvalue = [17, 1]'),\n",
              " Text(311.7765042979943, 108.72, 'gini = 0.0\\nsamples = 13\\nvalue = [13, 0]'),\n",
              " Text(316.89283667621777, 108.72, 'X[2] <= 46.0\\ngini = 0.32\\nsamples = 5\\nvalue = [4, 1]'),\n",
              " Text(314.33467048710605, 97.27578947368421, 'gini = 0.0\\nsamples = 1\\nvalue = [0, 1]'),\n",
              " Text(319.45100286532954, 97.27578947368421, 'gini = 0.0\\nsamples = 4\\nvalue = [4, 0]'),\n",
              " Text(329.6836676217765, 120.16421052631578, 'X[2] <= 45.0\\ngini = 0.32\\nsamples = 10\\nvalue = [8, 2]'),\n",
              " Text(327.12550143266475, 108.72, 'X[2] <= 40.5\\ngini = 0.408\\nsamples = 7\\nvalue = [5, 2]'),\n",
              " Text(324.56733524355303, 97.27578947368421, 'X[2] <= 35.0\\ngini = 0.32\\nsamples = 5\\nvalue = [4, 1]'),\n",
              " Text(322.00916905444126, 85.83157894736843, 'gini = 0.444\\nsamples = 3\\nvalue = [2, 1]'),\n",
              " Text(327.12550143266475, 85.83157894736843, 'gini = 0.0\\nsamples = 2\\nvalue = [2, 0]'),\n",
              " Text(329.6836676217765, 97.27578947368421, 'gini = 0.5\\nsamples = 2\\nvalue = [1, 1]'),\n",
              " Text(332.2418338108883, 108.72, 'gini = 0.0\\nsamples = 3\\nvalue = [3, 0]'),\n",
              " Text(327.12550143266475, 131.60842105263157, 'gini = 0.0\\nsamples = 26\\nvalue = [26, 0]')]"
            ]
          },
          "metadata": {},
          "execution_count": 215
        },
        {
          "output_type": "display_data",
          "data": {
            "image/png": "[encoded data removed]",
            "text/plain": [
              "<Figure size 432x288 with 1 Axes>"
            ]
          },
          "metadata": {
            "needs_background": "light"
          }
        }
      ]
    },
    {
      "cell_type": "code",
      "metadata": {
        "id": "14b318c0"
      },
      "source": [
        "#Predizendo valores e guadando em val_predictions\n",
        "val_predictions = decisionTreeClf.predict(val_X)"
      ],
      "id": "14b318c0",
      "execution_count": 216,
      "outputs": []
    },
    {
      "cell_type": "code",
      "metadata": {
        "colab": {
          "base_uri": "https://localhost:8080/"
        },
        "id": "78df9407",
        "outputId": "04716061-001b-42ee-e1dc-d1a3c3e5acf5"
      },
      "source": [
        "#Printando algumas Métricas\n",
        "print(classification_report(val_y,val_predictions))"
      ],
      "id": "78df9407",
      "execution_count": 217,
      "outputs": [
        {
          "output_type": "stream",
          "text": [
            "              precision    recall  f1-score   support\n",
            "\n",
            "           0       0.83      0.83      0.83       139\n",
            "           1       0.71      0.71      0.71        84\n",
            "\n",
            "    accuracy                           0.78       223\n",
            "   macro avg       0.77      0.77      0.77       223\n",
            "weighted avg       0.78      0.78      0.78       223\n",
            "\n"
          ],
          "name": "stdout"
        }
      ]
    },
    {
      "cell_type": "code",
      "metadata": {
        "colab": {
          "base_uri": "https://localhost:8080/"
        },
        "id": "1fa782f9",
        "outputId": "0d540457-3aa6-414a-dd79-3416cada3dad"
      },
      "source": [
        "print(confusion_matrix(val_y,val_predictions))"
      ],
      "id": "1fa782f9",
      "execution_count": 218,
      "outputs": [
        {
          "output_type": "stream",
          "text": [
            "[[115  24]\n",
            " [ 24  60]]\n"
          ],
          "name": "stdout"
        }
      ]
    },
    {
      "cell_type": "code",
      "metadata": {
        "colab": {
          "base_uri": "https://localhost:8080/"
        },
        "id": "335883e2",
        "outputId": "f093dade-e592-4651-bcfe-c69b95a103e8"
      },
      "source": [
        "accuracy = accuracy_score(val_y, val_predictions)\n",
        "accuracy"
      ],
      "id": "335883e2",
      "execution_count": 219,
      "outputs": [
        {
          "output_type": "execute_result",
          "data": {
            "text/plain": [
              "0.7847533632286996"
            ]
          },
          "metadata": {},
          "execution_count": 219
        }
      ]
    },
    {
      "cell_type": "markdown",
      "metadata": {
        "id": "31DgMwS8ISnT"
      },
      "source": [
        "**DecisionTreeClassifier(max_depth=10, min_samples_split=2)**"
      ],
      "id": "31DgMwS8ISnT"
    },
    {
      "cell_type": "code",
      "metadata": {
        "colab": {
          "base_uri": "https://localhost:8080/"
        },
        "id": "ghINoYAkCqce",
        "outputId": "244b8806-7453-4091-e69b-ad849b29e485"
      },
      "source": [
        "#importando Classificador e treinando modelo\n",
        "decisionTreeClf = DecisionTreeClassifier(random_state=0, max_depth=10)\n",
        "decisionTreeClf.fit(train_X,train_y)"
      ],
      "id": "ghINoYAkCqce",
      "execution_count": 220,
      "outputs": [
        {
          "output_type": "execute_result",
          "data": {
            "text/plain": [
              "DecisionTreeClassifier(ccp_alpha=0.0, class_weight=None, criterion='gini',\n",
              "                       max_depth=10, max_features=None, max_leaf_nodes=None,\n",
              "                       min_impurity_decrease=0.0, min_impurity_split=None,\n",
              "                       min_samples_leaf=1, min_samples_split=2,\n",
              "                       min_weight_fraction_leaf=0.0, presort='deprecated',\n",
              "                       random_state=0, splitter='best')"
            ]
          },
          "metadata": {},
          "execution_count": 220
        }
      ]
    },
    {
      "cell_type": "code",
      "metadata": {
        "colab": {
          "base_uri": "https://localhost:8080/"
        },
        "id": "2UcV5nl4Ct-v",
        "outputId": "c24abbd2-8900-41a1-8088-d8140f32c7c3"
      },
      "source": [
        "#Predizendo valores e guadando em val_predictions\n",
        "val_predictions = decisionTreeClf.predict(val_X)\n",
        "\n",
        "print(classification_report(val_y,val_predictions))"
      ],
      "id": "2UcV5nl4Ct-v",
      "execution_count": 221,
      "outputs": [
        {
          "output_type": "stream",
          "text": [
            "              precision    recall  f1-score   support\n",
            "\n",
            "           0       0.83      0.92      0.87       139\n",
            "           1       0.84      0.68      0.75        84\n",
            "\n",
            "    accuracy                           0.83       223\n",
            "   macro avg       0.83      0.80      0.81       223\n",
            "weighted avg       0.83      0.83      0.83       223\n",
            "\n"
          ],
          "name": "stdout"
        }
      ]
    },
    {
      "cell_type": "code",
      "metadata": {
        "colab": {
          "base_uri": "https://localhost:8080/"
        },
        "id": "XBQLXkMXC1FC",
        "outputId": "68bc720f-9b5e-479e-fe6c-0964c28a9d74"
      },
      "source": [
        "print(confusion_matrix(val_y,val_predictions))"
      ],
      "id": "XBQLXkMXC1FC",
      "execution_count": 222,
      "outputs": [
        {
          "output_type": "stream",
          "text": [
            "[[128  11]\n",
            " [ 27  57]]\n"
          ],
          "name": "stdout"
        }
      ]
    },
    {
      "cell_type": "code",
      "metadata": {
        "colab": {
          "base_uri": "https://localhost:8080/"
        },
        "id": "WpdPUg-VFjKv",
        "outputId": "0210d2a7-0050-48e1-8ea8-769b7e4cfc60"
      },
      "source": [
        "accuracy = accuracy_score(val_y, val_predictions)\n",
        "accuracy"
      ],
      "id": "WpdPUg-VFjKv",
      "execution_count": 223,
      "outputs": [
        {
          "output_type": "execute_result",
          "data": {
            "text/plain": [
              "0.8295964125560538"
            ]
          },
          "metadata": {},
          "execution_count": 223
        }
      ]
    },
    {
      "cell_type": "markdown",
      "metadata": {
        "id": "oGcB_-VuIkDe"
      },
      "source": [
        "Como podemos observar, tivemos uma acurácia melhor se comparado ao experimento anterior apenas ao diminuir a profundidade da árvore. Embora o experimento anterior tivesse uma árvore maior e mais complexa, com um maior número de nós e splits, isso nem sempre leva a um melhor resultado, pois poderá estar levando o classificador a um overfitting."
      ],
      "id": "oGcB_-VuIkDe"
    },
    {
      "cell_type": "code",
      "metadata": {
        "colab": {
          "base_uri": "https://localhost:8080/",
          "height": 1000
        },
        "id": "QG5PMDfPC5iJ",
        "outputId": "f8ef94aa-95af-4409-d395-4c164863a866"
      },
      "source": [
        "#Plotando a árvore de decisão\n",
        "tree.plot_tree(decisionTreeClf)"
      ],
      "id": "QG5PMDfPC5iJ",
      "execution_count": 224,
      "outputs": [
        {
          "output_type": "execute_result",
          "data": {
            "text/plain": [
              "[Text(132.31826675257733, 207.55636363636364, 'X[1] <= 0.5\\ngini = 0.474\\nsamples = 668\\nvalue = [410, 258]'),\n",
              " Text(70.64884020618557, 187.7890909090909, 'X[0] <= 2.5\\ngini = 0.372\\nsamples = 231\\nvalue = [57, 174]'),\n",
              " Text(34.51546391752578, 168.0218181818182, 'X[2] <= 2.5\\ngini = 0.116\\nsamples = 129\\nvalue = [8, 121]'),\n",
              " Text(31.0639175257732, 148.25454545454545, 'gini = 0.0\\nsamples = 1\\nvalue = [1, 0]'),\n",
              " Text(37.96701030927835, 148.25454545454545, 'X[5] <= 28.856\\ngini = 0.103\\nsamples = 128\\nvalue = [7, 121]'),\n",
              " Text(31.0639175257732, 128.48727272727274, 'X[5] <= 28.231\\ngini = 0.201\\nsamples = 53\\nvalue = [6, 47]'),\n",
              " Text(27.61237113402062, 108.72, 'X[2] <= 56.0\\ngini = 0.174\\nsamples = 52\\nvalue = [5, 47]'),\n",
              " Text(20.709278350515465, 88.95272727272729, 'X[4] <= 0.5\\ngini = 0.147\\nsamples = 50\\nvalue = [4, 46]'),\n",
              " Text(17.25773195876289, 69.18545454545455, 'X[2] <= 37.0\\ngini = 0.202\\nsamples = 35\\nvalue = [4, 31]'),\n",
              " Text(10.354639175257732, 49.418181818181836, 'X[2] <= 27.5\\ngini = 0.142\\nsamples = 26\\nvalue = [2, 24]'),\n",
              " Text(6.903092783505155, 29.650909090909096, 'X[2] <= 23.5\\ngini = 0.32\\nsamples = 10\\nvalue = [2, 8]'),\n",
              " Text(3.4515463917525775, 9.883636363636384, 'gini = 0.0\\nsamples = 5\\nvalue = [0, 5]'),\n",
              " Text(10.354639175257732, 9.883636363636384, 'gini = 0.48\\nsamples = 5\\nvalue = [2, 3]'),\n",
              " Text(13.80618556701031, 29.650909090909096, 'gini = 0.0\\nsamples = 16\\nvalue = [0, 16]'),\n",
              " Text(24.16082474226804, 49.418181818181836, 'X[3] <= 0.5\\ngini = 0.346\\nsamples = 9\\nvalue = [2, 7]'),\n",
              " Text(20.709278350515465, 29.650909090909096, 'X[2] <= 39.0\\ngini = 0.219\\nsamples = 8\\nvalue = [1, 7]'),\n",
              " Text(17.25773195876289, 9.883636363636384, 'gini = 0.0\\nsamples = 1\\nvalue = [1, 0]'),\n",
              " Text(24.16082474226804, 9.883636363636384, 'gini = 0.0\\nsamples = 7\\nvalue = [0, 7]'),\n",
              " Text(27.61237113402062, 29.650909090909096, 'gini = 0.0\\nsamples = 1\\nvalue = [1, 0]'),\n",
              " Text(24.16082474226804, 69.18545454545455, 'gini = 0.0\\nsamples = 15\\nvalue = [0, 15]'),\n",
              " Text(34.51546391752578, 88.95272727272729, 'X[0] <= 1.5\\ngini = 0.5\\nsamples = 2\\nvalue = [1, 1]'),\n",
              " Text(31.0639175257732, 69.18545454545455, 'gini = 0.0\\nsamples = 1\\nvalue = [0, 1]'),\n",
              " Text(37.96701030927835, 69.18545454545455, 'gini = 0.0\\nsamples = 1\\nvalue = [1, 0]'),\n",
              " Text(34.51546391752578, 108.72, 'gini = 0.0\\nsamples = 1\\nvalue = [1, 0]'),\n",
              " Text(44.87010309278351, 128.48727272727274, 'X[5] <= 149.035\\ngini = 0.026\\nsamples = 75\\nvalue = [1, 74]'),\n",
              " Text(41.41855670103093, 108.72, 'gini = 0.0\\nsamples = 65\\nvalue = [0, 65]'),\n",
              " Text(48.32164948453608, 108.72, 'X[5] <= 152.506\\ngini = 0.18\\nsamples = 10\\nvalue = [1, 9]'),\n",
              " Text(44.87010309278351, 88.95272727272729, 'gini = 0.0\\nsamples = 1\\nvalue = [1, 0]'),\n",
              " Text(51.77319587628866, 88.95272727272729, 'gini = 0.0\\nsamples = 9\\nvalue = [0, 9]'),\n",
              " Text(106.78221649484537, 168.0218181818182, 'X[5] <= 23.35\\ngini = 0.499\\nsamples = 102\\nvalue = [49, 53]'),\n",
              " Text(88.4458762886598, 148.25454545454545, 'X[2] <= 38.5\\ngini = 0.469\\nsamples = 80\\nvalue = [30, 50]'),\n",
              " Text(84.99432989690722, 128.48727272727274, 'X[5] <= 7.888\\ngini = 0.455\\nsamples = 77\\nvalue = [27, 50]'),\n",
              " Text(62.1278350515464, 108.72, 'X[2] <= 29.25\\ngini = 0.358\\nsamples = 30\\nvalue = [7, 23]'),\n",
              " Text(58.67628865979382, 88.95272727272729, 'X[4] <= 1.0\\ngini = 0.293\\nsamples = 28\\nvalue = [5, 23]'),\n",
              " Text(55.22474226804124, 69.18545454545455, 'X[5] <= 7.64\\ngini = 0.252\\nsamples = 27\\nvalue = [4, 23]'),\n",
              " Text(43.144329896907216, 49.418181818181836, 'X[5] <= 7.523\\ngini = 0.444\\nsamples = 6\\nvalue = [2, 4]'),\n",
              " Text(39.692783505154644, 29.650909090909096, 'gini = 0.0\\nsamples = 3\\nvalue = [0, 3]'),\n",
              " Text(46.595876288659795, 29.650909090909096, 'X[2] <= 25.5\\ngini = 0.444\\nsamples = 3\\nvalue = [2, 1]'),\n",
              " Text(43.144329896907216, 9.883636363636384, 'gini = 0.0\\nsamples = 1\\nvalue = [0, 1]'),\n",
              " Text(50.047422680412375, 9.883636363636384, 'gini = 0.0\\nsamples = 2\\nvalue = [2, 0]'),\n",
              " Text(67.30515463917526, 49.418181818181836, 'X[2] <= 18.5\\ngini = 0.172\\nsamples = 21\\nvalue = [2, 19]'),\n",
              " Text(60.402061855670105, 29.650909090909096, 'X[5] <= 7.763\\ngini = 0.5\\nsamples = 2\\nvalue = [1, 1]'),\n",
              " Text(56.950515463917526, 9.883636363636384, 'gini = 0.0\\nsamples = 1\\nvalue = [0, 1]'),\n",
              " Text(63.853608247422684, 9.883636363636384, 'gini = 0.0\\nsamples = 1\\nvalue = [1, 0]'),\n",
              " Text(74.20824742268042, 29.650909090909096, 'X[2] <= 25.5\\ngini = 0.1\\nsamples = 19\\nvalue = [1, 18]'),\n",
              " Text(70.75670103092784, 9.883636363636384, 'gini = 0.278\\nsamples = 6\\nvalue = [1, 5]'),\n",
              " Text(77.65979381443299, 9.883636363636384, 'gini = 0.0\\nsamples = 13\\nvalue = [0, 13]'),\n",
              " Text(62.1278350515464, 69.18545454545455, 'gini = 0.0\\nsamples = 1\\nvalue = [1, 0]'),\n",
              " Text(65.57938144329897, 88.95272727272729, 'gini = 0.0\\nsamples = 2\\nvalue = [2, 0]'),\n",
              " Text(107.86082474226805, 108.72, 'X[4] <= 1.5\\ngini = 0.489\\nsamples = 47\\nvalue = [20, 27]'),\n",
              " Text(104.40927835051546, 88.95272727272729, 'X[5] <= 8.673\\ngini = 0.5\\nsamples = 41\\nvalue = [20, 21]'),\n",
              " Text(88.01443298969073, 69.18545454545455, 'X[5] <= 8.04\\ngini = 0.42\\nsamples = 10\\nvalue = [7, 3]'),\n",
              " Text(84.56288659793815, 49.418181818181836, 'X[5] <= 7.91\\ngini = 0.5\\nsamples = 6\\nvalue = [3, 3]'),\n",
              " Text(81.11134020618557, 29.650909090909096, 'gini = 0.0\\nsamples = 1\\nvalue = [1, 0]'),\n",
              " Text(88.01443298969073, 29.650909090909096, 'X[2] <= 25.5\\ngini = 0.48\\nsamples = 5\\nvalue = [2, 3]'),\n",
              " Text(84.56288659793815, 9.883636363636384, 'gini = 0.444\\nsamples = 3\\nvalue = [2, 1]'),\n",
              " Text(91.4659793814433, 9.883636363636384, 'gini = 0.0\\nsamples = 2\\nvalue = [0, 2]'),\n",
              " Text(91.4659793814433, 49.418181818181836, 'gini = 0.0\\nsamples = 4\\nvalue = [4, 0]'),\n",
              " Text(120.80412371134021, 69.18545454545455, 'X[2] <= 26.5\\ngini = 0.487\\nsamples = 31\\nvalue = [13, 18]'),\n",
              " Text(108.7237113402062, 49.418181818181836, 'X[5] <= 13.935\\ngini = 0.494\\nsamples = 18\\nvalue = [10, 8]'),\n",
              " Text(101.82061855670104, 29.650909090909096, 'X[2] <= 20.0\\ngini = 0.408\\nsamples = 7\\nvalue = [2, 5]'),\n",
              " Text(98.36907216494846, 9.883636363636384, 'gini = 0.278\\nsamples = 6\\nvalue = [1, 5]'),\n",
              " Text(105.27216494845361, 9.883636363636384, 'gini = 0.0\\nsamples = 1\\nvalue = [1, 0]'),\n",
              " Text(115.62680412371135, 29.650909090909096, 'X[2] <= 16.0\\ngini = 0.397\\nsamples = 11\\nvalue = [8, 3]'),\n",
              " Text(112.17525773195877, 9.883636363636384, 'gini = 0.5\\nsamples = 6\\nvalue = [3, 3]'),\n",
              " Text(119.07835051546392, 9.883636363636384, 'gini = 0.0\\nsamples = 5\\nvalue = [5, 0]'),\n",
              " Text(132.88453608247423, 49.418181818181836, 'X[5] <= 15.8\\ngini = 0.355\\nsamples = 13\\nvalue = [3, 10]'),\n",
              " Text(129.43298969072166, 29.650909090909096, 'X[3] <= 0.5\\ngini = 0.49\\nsamples = 7\\nvalue = [3, 4]'),\n",
              " Text(125.98144329896908, 9.883636363636384, 'gini = 0.0\\nsamples = 2\\nvalue = [0, 2]'),\n",
              " Text(132.88453608247423, 9.883636363636384, 'gini = 0.48\\nsamples = 5\\nvalue = [3, 2]'),\n",
              " Text(136.3360824742268, 29.650909090909096, 'gini = 0.0\\nsamples = 6\\nvalue = [0, 6]'),\n",
              " Text(111.31237113402062, 88.95272727272729, 'gini = 0.0\\nsamples = 6\\nvalue = [0, 6]'),\n",
              " Text(91.89742268041238, 128.48727272727274, 'gini = 0.0\\nsamples = 3\\nvalue = [3, 0]'),\n",
              " Text(125.11855670103094, 148.25454545454545, 'X[4] <= 0.5\\ngini = 0.236\\nsamples = 22\\nvalue = [19, 3]'),\n",
              " Text(121.66701030927835, 128.48727272727274, 'gini = 0.0\\nsamples = 1\\nvalue = [0, 1]'),\n",
              " Text(128.5701030927835, 128.48727272727274, 'X[2] <= 5.5\\ngini = 0.172\\nsamples = 21\\nvalue = [19, 2]'),\n",
              " Text(121.66701030927835, 108.72, 'X[2] <= 3.5\\ngini = 0.5\\nsamples = 2\\nvalue = [1, 1]'),\n",
              " Text(118.21546391752578, 88.95272727272729, 'gini = 0.0\\nsamples = 1\\nvalue = [1, 0]'),\n",
              " Text(125.11855670103094, 88.95272727272729, 'gini = 0.0\\nsamples = 1\\nvalue = [0, 1]'),\n",
              " Text(135.47319587628866, 108.72, 'X[4] <= 4.0\\ngini = 0.1\\nsamples = 19\\nvalue = [18, 1]'),\n",
              " Text(132.02164948453608, 88.95272727272729, 'gini = 0.0\\nsamples = 15\\nvalue = [15, 0]'),\n",
              " Text(138.92474226804126, 88.95272727272729, 'X[2] <= 38.5\\ngini = 0.375\\nsamples = 4\\nvalue = [3, 1]'),\n",
              " Text(135.47319587628866, 69.18545454545455, 'gini = 0.0\\nsamples = 1\\nvalue = [0, 1]'),\n",
              " Text(142.37628865979383, 69.18545454545455, 'gini = 0.0\\nsamples = 3\\nvalue = [3, 0]'),\n",
              " Text(193.98769329896908, 187.7890909090909, 'X[2] <= 14.0\\ngini = 0.311\\nsamples = 437\\nvalue = [353, 84]'),\n",
              " Text(156.18247422680412, 168.0218181818182, 'X[3] <= 2.5\\ngini = 0.491\\nsamples = 30\\nvalue = [13, 17]'),\n",
              " Text(149.27938144329897, 148.25454545454545, 'X[4] <= 0.5\\ngini = 0.111\\nsamples = 17\\nvalue = [1, 16]'),\n",
              " Text(145.8278350515464, 128.48727272727274, 'X[5] <= 15.015\\ngini = 0.5\\nsamples = 2\\nvalue = [1, 1]'),\n",
              " Text(142.37628865979383, 108.72, 'gini = 0.0\\nsamples = 1\\nvalue = [0, 1]'),\n",
              " Text(149.27938144329897, 108.72, 'gini = 0.0\\nsamples = 1\\nvalue = [1, 0]'),\n",
              " Text(152.73092783505155, 128.48727272727274, 'gini = 0.0\\nsamples = 15\\nvalue = [0, 15]'),\n",
              " Text(163.0855670103093, 148.25454545454545, 'X[2] <= 3.5\\ngini = 0.142\\nsamples = 13\\nvalue = [12, 1]'),\n",
              " Text(159.63402061855672, 128.48727272727274, 'X[2] <= 2.5\\ngini = 0.278\\nsamples = 6\\nvalue = [5, 1]'),\n",
              " Text(156.18247422680412, 108.72, 'gini = 0.0\\nsamples = 5\\nvalue = [5, 0]'),\n",
              " Text(163.0855670103093, 108.72, 'gini = 0.0\\nsamples = 1\\nvalue = [0, 1]'),\n",
              " Text(166.53711340206186, 128.48727272727274, 'gini = 0.0\\nsamples = 7\\nvalue = [7, 0]'),\n",
              " Text(231.79291237113404, 168.0218181818182, 'X[0] <= 1.5\\ngini = 0.275\\nsamples = 407\\nvalue = [340, 67]'),\n",
              " Text(180.34329896907218, 148.25454545454545, 'X[2] <= 53.0\\ngini = 0.439\\nsamples = 89\\nvalue = [60, 29]'),\n",
              " Text(173.440206185567, 128.48727272727274, 'X[5] <= 26.144\\ngini = 0.47\\nsamples = 74\\nvalue = [46, 28]'),\n",
              " Text(169.98865979381443, 108.72, 'gini = 0.0\\nsamples = 7\\nvalue = [7, 0]'),\n",
              " Text(176.8917525773196, 108.72, 'X[5] <= 27.135\\ngini = 0.487\\nsamples = 67\\nvalue = [39, 28]'),\n",
              " Text(162.22268041237115, 88.95272727272729, 'X[5] <= 26.469\\ngini = 0.278\\nsamples = 12\\nvalue = [2, 10]'),\n",
              " Text(158.77113402061858, 69.18545454545455, 'gini = 0.0\\nsamples = 4\\nvalue = [0, 4]'),\n",
              " Text(165.67422680412372, 69.18545454545455, 'X[2] <= 46.5\\ngini = 0.375\\nsamples = 8\\nvalue = [2, 6]'),\n",
              " Text(162.22268041237115, 49.418181818181836, 'X[2] <= 40.0\\ngini = 0.444\\nsamples = 6\\nvalue = [2, 4]'),\n",
              " Text(158.77113402061858, 29.650909090909096, 'X[2] <= 31.5\\ngini = 0.375\\nsamples = 4\\nvalue = [1, 3]'),\n",
              " Text(155.31958762886597, 9.883636363636384, 'gini = 0.444\\nsamples = 3\\nvalue = [1, 2]'),\n",
              " Text(162.22268041237115, 9.883636363636384, 'gini = 0.0\\nsamples = 1\\nvalue = [0, 1]'),\n",
              " Text(165.67422680412372, 29.650909090909096, 'gini = 0.5\\nsamples = 2\\nvalue = [1, 1]'),\n",
              " Text(169.1257731958763, 49.418181818181836, 'gini = 0.0\\nsamples = 2\\nvalue = [0, 2]'),\n",
              " Text(191.56082474226804, 88.95272727272729, 'X[5] <= 379.925\\ngini = 0.44\\nsamples = 55\\nvalue = [37, 18]'),\n",
              " Text(188.10927835051547, 69.18545454545455, 'X[3] <= 0.5\\ngini = 0.422\\nsamples = 53\\nvalue = [37, 16]'),\n",
              " Text(179.48041237113404, 49.418181818181836, 'X[5] <= 37.0\\ngini = 0.298\\nsamples = 33\\nvalue = [27, 6]'),\n",
              " Text(172.57731958762886, 29.650909090909096, 'X[2] <= 27.5\\ngini = 0.459\\nsamples = 14\\nvalue = [9, 5]'),\n",
              " Text(169.1257731958763, 9.883636363636384, 'gini = 0.0\\nsamples = 2\\nvalue = [0, 2]'),\n",
              " Text(176.02886597938146, 9.883636363636384, 'gini = 0.375\\nsamples = 12\\nvalue = [9, 3]'),\n",
              " Text(186.38350515463918, 29.650909090909096, 'X[2] <= 19.0\\ngini = 0.1\\nsamples = 19\\nvalue = [18, 1]'),\n",
              " Text(182.9319587628866, 9.883636363636384, 'gini = 0.0\\nsamples = 1\\nvalue = [0, 1]'),\n",
              " Text(189.83505154639175, 9.883636363636384, 'gini = 0.0\\nsamples = 18\\nvalue = [18, 0]'),\n",
              " Text(196.73814432989693, 49.418181818181836, 'X[5] <= 52.277\\ngini = 0.5\\nsamples = 20\\nvalue = [10, 10]'),\n",
              " Text(193.28659793814433, 29.650909090909096, 'gini = 0.0\\nsamples = 1\\nvalue = [1, 0]'),\n",
              " Text(200.1896907216495, 29.650909090909096, 'X[5] <= 52.827\\ngini = 0.499\\nsamples = 19\\nvalue = [9, 10]'),\n",
              " Text(196.73814432989693, 9.883636363636384, 'gini = 0.0\\nsamples = 2\\nvalue = [0, 2]'),\n",
              " Text(203.64123711340207, 9.883636363636384, 'gini = 0.498\\nsamples = 17\\nvalue = [9, 8]'),\n",
              " Text(195.01237113402064, 69.18545454545455, 'gini = 0.0\\nsamples = 2\\nvalue = [0, 2]'),\n",
              " Text(187.24639175257732, 128.48727272727274, 'X[2] <= 75.5\\ngini = 0.124\\nsamples = 15\\nvalue = [14, 1]'),\n",
              " Text(183.79484536082475, 108.72, 'gini = 0.0\\nsamples = 14\\nvalue = [14, 0]'),\n",
              " Text(190.6979381443299, 108.72, 'gini = 0.0\\nsamples = 1\\nvalue = [0, 1]'),\n",
              " Text(283.2425257731959, 148.25454545454545, 'X[2] <= 32.5\\ngini = 0.21\\nsamples = 318\\nvalue = [280, 38]'),\n",
              " Text(259.2974226804124, 128.48727272727274, 'X[2] <= 30.75\\ngini = 0.242\\nsamples = 234\\nvalue = [201, 33]'),\n",
              " Text(245.92268041237114, 108.72, 'X[3] <= 1.5\\ngini = 0.209\\nsamples = 219\\nvalue = [193, 26]'),\n",
              " Text(242.47113402061856, 88.95272727272729, 'X[4] <= 0.5\\ngini = 0.22\\nsamples = 207\\nvalue = [181, 26]'),\n",
              " Text(229.5278350515464, 69.18545454545455, 'X[5] <= 42.108\\ngini = 0.206\\nsamples = 197\\nvalue = [174, 23]'),\n",
              " Text(220.89896907216496, 49.418181818181836, 'X[2] <= 28.75\\ngini = 0.196\\nsamples = 191\\nvalue = [170, 21]'),\n",
              " Text(213.99587628865982, 29.650909090909096, 'X[5] <= 7.798\\ngini = 0.18\\nsamples = 170\\nvalue = [153, 17]'),\n",
              " Text(210.54432989690721, 9.883636363636384, 'gini = 0.242\\nsamples = 64\\nvalue = [55, 9]'),\n",
              " Text(217.4474226804124, 9.883636363636384, 'gini = 0.14\\nsamples = 106\\nvalue = [98, 8]'),\n",
              " Text(227.8020618556701, 29.650909090909096, 'X[5] <= 10.0\\ngini = 0.308\\nsamples = 21\\nvalue = [17, 4]'),\n",
              " Text(224.35051546391753, 9.883636363636384, 'gini = 0.408\\nsamples = 14\\nvalue = [10, 4]'),\n",
              " Text(231.2536082474227, 9.883636363636384, 'gini = 0.0\\nsamples = 7\\nvalue = [7, 0]'),\n",
              " Text(238.15670103092785, 49.418181818181836, 'X[2] <= 23.5\\ngini = 0.444\\nsamples = 6\\nvalue = [4, 2]'),\n",
              " Text(234.70515463917528, 29.650909090909096, 'gini = 0.0\\nsamples = 2\\nvalue = [2, 0]'),\n",
              " Text(241.60824742268042, 29.650909090909096, 'X[2] <= 27.0\\ngini = 0.5\\nsamples = 4\\nvalue = [2, 2]'),\n",
              " Text(238.15670103092785, 9.883636363636384, 'gini = 0.0\\nsamples = 1\\nvalue = [0, 1]'),\n",
              " Text(245.059793814433, 9.883636363636384, 'gini = 0.444\\nsamples = 3\\nvalue = [2, 1]'),\n",
              " Text(255.41443298969074, 69.18545454545455, 'X[5] <= 17.977\\ngini = 0.42\\nsamples = 10\\nvalue = [7, 3]'),\n",
              " Text(251.96288659793817, 49.418181818181836, 'X[5] <= 11.237\\ngini = 0.375\\nsamples = 4\\nvalue = [1, 3]'),\n",
              " Text(248.5113402061856, 29.650909090909096, 'gini = 0.0\\nsamples = 1\\nvalue = [1, 0]'),\n",
              " Text(255.41443298969074, 29.650909090909096, 'gini = 0.0\\nsamples = 3\\nvalue = [0, 3]'),\n",
              " Text(258.8659793814433, 49.418181818181836, 'gini = 0.0\\nsamples = 6\\nvalue = [6, 0]'),\n",
              " Text(249.37422680412374, 88.95272727272729, 'gini = 0.0\\nsamples = 12\\nvalue = [12, 0]'),\n",
              " Text(272.6721649484536, 108.72, 'X[5] <= 7.815\\ngini = 0.498\\nsamples = 15\\nvalue = [8, 7]'),\n",
              " Text(269.220618556701, 88.95272727272729, 'gini = 0.0\\nsamples = 2\\nvalue = [2, 0]'),\n",
              " Text(276.1237113402062, 88.95272727272729, 'X[3] <= 0.5\\ngini = 0.497\\nsamples = 13\\nvalue = [6, 7]'),\n",
              " Text(269.220618556701, 69.18545454545455, 'X[5] <= 11.75\\ngini = 0.444\\nsamples = 9\\nvalue = [3, 6]'),\n",
              " Text(265.76907216494845, 49.418181818181836, 'X[5] <= 9.275\\ngini = 0.49\\nsamples = 7\\nvalue = [3, 4]'),\n",
              " Text(262.3175257731959, 29.650909090909096, 'X[5] <= 7.89\\ngini = 0.444\\nsamples = 6\\nvalue = [2, 4]'),\n",
              " Text(258.8659793814433, 9.883636363636384, 'gini = 0.0\\nsamples = 1\\nvalue = [0, 1]'),\n",
              " Text(265.76907216494845, 9.883636363636384, 'gini = 0.48\\nsamples = 5\\nvalue = [2, 3]'),\n",
              " Text(269.220618556701, 29.650909090909096, 'gini = 0.0\\nsamples = 1\\nvalue = [1, 0]'),\n",
              " Text(272.6721649484536, 49.418181818181836, 'gini = 0.0\\nsamples = 2\\nvalue = [0, 2]'),\n",
              " Text(283.0268041237114, 69.18545454545455, 'X[5] <= 26.125\\ngini = 0.375\\nsamples = 4\\nvalue = [3, 1]'),\n",
              " Text(279.5752577319588, 49.418181818181836, 'X[5] <= 20.925\\ngini = 0.5\\nsamples = 2\\nvalue = [1, 1]'),\n",
              " Text(276.1237113402062, 29.650909090909096, 'gini = 0.0\\nsamples = 1\\nvalue = [1, 0]'),\n",
              " Text(283.0268041237114, 29.650909090909096, 'gini = 0.0\\nsamples = 1\\nvalue = [0, 1]'),\n",
              " Text(286.47835051546394, 49.418181818181836, 'gini = 0.0\\nsamples = 2\\nvalue = [2, 0]'),\n",
              " Text(307.1876288659794, 128.48727272727274, 'X[5] <= 7.91\\ngini = 0.112\\nsamples = 84\\nvalue = [79, 5]'),\n",
              " Text(303.7360824742268, 108.72, 'gini = 0.0\\nsamples = 26\\nvalue = [26, 0]'),\n",
              " Text(310.63917525773195, 108.72, 'X[5] <= 7.988\\ngini = 0.158\\nsamples = 58\\nvalue = [53, 5]'),\n",
              " Text(300.28453608247423, 88.95272727272729, 'X[3] <= 1.0\\ngini = 0.5\\nsamples = 4\\nvalue = [2, 2]'),\n",
              " Text(296.83298969072166, 69.18545454545455, 'X[2] <= 41.5\\ngini = 0.444\\nsamples = 3\\nvalue = [1, 2]'),\n",
              " Text(293.3814432989691, 49.418181818181836, 'gini = 0.5\\nsamples = 2\\nvalue = [1, 1]'),\n",
              " Text(300.28453608247423, 49.418181818181836, 'gini = 0.0\\nsamples = 1\\nvalue = [0, 1]'),\n",
              " Text(303.7360824742268, 69.18545454545455, 'gini = 0.0\\nsamples = 1\\nvalue = [1, 0]'),\n",
              " Text(320.9938144329897, 88.95272727272729, 'X[5] <= 13.25\\ngini = 0.105\\nsamples = 54\\nvalue = [51, 3]'),\n",
              " Text(317.54226804123715, 69.18545454545455, 'X[5] <= 12.938\\ngini = 0.191\\nsamples = 28\\nvalue = [25, 3]'),\n",
              " Text(307.1876288659794, 49.418181818181836, 'X[2] <= 44.5\\ngini = 0.105\\nsamples = 18\\nvalue = [17, 1]'),\n",
              " Text(303.7360824742268, 29.650909090909096, 'gini = 0.0\\nsamples = 13\\nvalue = [13, 0]'),\n",
              " Text(310.63917525773195, 29.650909090909096, 'X[2] <= 46.0\\ngini = 0.32\\nsamples = 5\\nvalue = [4, 1]'),\n",
              " Text(307.1876288659794, 9.883636363636384, 'gini = 0.0\\nsamples = 1\\nvalue = [0, 1]'),\n",
              " Text(314.0907216494846, 9.883636363636384, 'gini = 0.0\\nsamples = 4\\nvalue = [4, 0]'),\n",
              " Text(327.89690721649487, 49.418181818181836, 'X[2] <= 45.0\\ngini = 0.32\\nsamples = 10\\nvalue = [8, 2]'),\n",
              " Text(324.4453608247423, 29.650909090909096, 'X[2] <= 40.5\\ngini = 0.408\\nsamples = 7\\nvalue = [5, 2]'),\n",
              " Text(320.9938144329897, 9.883636363636384, 'gini = 0.32\\nsamples = 5\\nvalue = [4, 1]'),\n",
              " Text(327.89690721649487, 9.883636363636384, 'gini = 0.5\\nsamples = 2\\nvalue = [1, 1]'),\n",
              " Text(331.34845360824744, 29.650909090909096, 'gini = 0.0\\nsamples = 3\\nvalue = [3, 0]'),\n",
              " Text(324.4453608247423, 69.18545454545455, 'gini = 0.0\\nsamples = 26\\nvalue = [26, 0]')]"
            ]
          },
          "metadata": {},
          "execution_count": 224
        },
        {
          "output_type": "display_data",
          "data": {
            "image/png": "[encoded data removed]",
            "text/plain": [
              "<Figure size 432x288 with 1 Axes>"
            ]
          },
          "metadata": {
            "needs_background": "light"
          }
        }
      ]
    },
    {
      "cell_type": "markdown",
      "metadata": {
        "id": "e8abMxadJUTo"
      },
      "source": [
        "**DecisionTreeClassifier(max_depth=10, min_samples_split=10)**"
      ],
      "id": "e8abMxadJUTo"
    },
    {
      "cell_type": "code",
      "metadata": {
        "colab": {
          "base_uri": "https://localhost:8080/"
        },
        "id": "nAK212mEDXPh",
        "outputId": "7057cfba-762f-4ef3-9778-5ee5f8bae1ad"
      },
      "source": [
        "#importando Classificador e treinando modelo\n",
        "decisionTreeClf = DecisionTreeClassifier(random_state=0, max_depth=10, min_samples_split=10)\n",
        "decisionTreeClf.fit(train_X,train_y)"
      ],
      "id": "nAK212mEDXPh",
      "execution_count": 238,
      "outputs": [
        {
          "output_type": "execute_result",
          "data": {
            "text/plain": [
              "DecisionTreeClassifier(ccp_alpha=0.0, class_weight=None, criterion='gini',\n",
              "                       max_depth=10, max_features=None, max_leaf_nodes=None,\n",
              "                       min_impurity_decrease=0.0, min_impurity_split=None,\n",
              "                       min_samples_leaf=1, min_samples_split=10,\n",
              "                       min_weight_fraction_leaf=0.0, presort='deprecated',\n",
              "                       random_state=0, splitter='best')"
            ]
          },
          "metadata": {},
          "execution_count": 238
        }
      ]
    },
    {
      "cell_type": "code",
      "metadata": {
        "id": "Bg-H_0LPHL1C"
      },
      "source": [
        "#Predizendo valores e guadando em val_predictions\n",
        "val_predictions = decisionTreeClf.predict(val_X)"
      ],
      "id": "Bg-H_0LPHL1C",
      "execution_count": 239,
      "outputs": []
    },
    {
      "cell_type": "code",
      "metadata": {
        "colab": {
          "base_uri": "https://localhost:8080/"
        },
        "id": "QBbrgpEIE0qo",
        "outputId": "174794f5-ff49-4254-ee14-b1eda5e503d9"
      },
      "source": [
        "print(confusion_matrix(val_y,val_predictions))"
      ],
      "id": "QBbrgpEIE0qo",
      "execution_count": 240,
      "outputs": [
        {
          "output_type": "stream",
          "text": [
            "[[120  19]\n",
            " [ 26  58]]\n"
          ],
          "name": "stdout"
        }
      ]
    },
    {
      "cell_type": "code",
      "metadata": {
        "colab": {
          "base_uri": "https://localhost:8080/"
        },
        "id": "2alGWPHHFq7R",
        "outputId": "6675b37a-b42e-48f5-8152-656bfc0b05f4"
      },
      "source": [
        "accuracy = accuracy_score(val_y, val_predictions)\n",
        "accuracy"
      ],
      "id": "2alGWPHHFq7R",
      "execution_count": 241,
      "outputs": [
        {
          "output_type": "execute_result",
          "data": {
            "text/plain": [
              "0.7982062780269058"
            ]
          },
          "metadata": {},
          "execution_count": 241
        }
      ]
    },
    {
      "cell_type": "code",
      "metadata": {
        "colab": {
          "base_uri": "https://localhost:8080/",
          "height": 1000
        },
        "id": "EbYipwBjQ20a",
        "outputId": "fe8080d0-c22d-403c-ff4f-dca9a2dcf8d3"
      },
      "source": [
        "#Plotando a árvore de decisão\n",
        "tree.plot_tree(decisionTreeClf)"
      ],
      "id": "EbYipwBjQ20a",
      "execution_count": 242,
      "outputs": [
        {
          "output_type": "execute_result",
          "data": {
            "text/plain": [
              "[Text(141.51686746987951, 207.55636363636364, 'X[1] <= 0.5\\ngini = 0.474\\nsamples = 668\\nvalue = [410, 258]'),\n",
              " Text(80.00240963855421, 187.7890909090909, 'X[0] <= 2.5\\ngini = 0.372\\nsamples = 231\\nvalue = [57, 174]'),\n",
              " Text(43.026506024096385, 168.0218181818182, 'X[2] <= 2.5\\ngini = 0.116\\nsamples = 129\\nvalue = [8, 121]'),\n",
              " Text(37.64819277108434, 148.25454545454545, 'gini = 0.0\\nsamples = 1\\nvalue = [1, 0]'),\n",
              " Text(48.40481927710843, 148.25454545454545, 'X[5] <= 28.856\\ngini = 0.103\\nsamples = 128\\nvalue = [7, 121]'),\n",
              " Text(37.64819277108434, 128.48727272727274, 'X[5] <= 28.231\\ngini = 0.201\\nsamples = 53\\nvalue = [6, 47]'),\n",
              " Text(32.26987951807229, 108.72, 'X[2] <= 56.0\\ngini = 0.174\\nsamples = 52\\nvalue = [5, 47]'),\n",
              " Text(26.89156626506024, 88.95272727272729, 'X[4] <= 0.5\\ngini = 0.147\\nsamples = 50\\nvalue = [4, 46]'),\n",
              " Text(21.513253012048192, 69.18545454545455, 'X[2] <= 37.0\\ngini = 0.202\\nsamples = 35\\nvalue = [4, 31]'),\n",
              " Text(16.134939759036143, 49.418181818181836, 'X[2] <= 27.5\\ngini = 0.142\\nsamples = 26\\nvalue = [2, 24]'),\n",
              " Text(10.756626506024096, 29.650909090909096, 'X[2] <= 23.5\\ngini = 0.32\\nsamples = 10\\nvalue = [2, 8]'),\n",
              " Text(5.378313253012048, 9.883636363636384, 'gini = 0.0\\nsamples = 5\\nvalue = [0, 5]'),\n",
              " Text(16.134939759036143, 9.883636363636384, 'gini = 0.48\\nsamples = 5\\nvalue = [2, 3]'),\n",
              " Text(21.513253012048192, 29.650909090909096, 'gini = 0.0\\nsamples = 16\\nvalue = [0, 16]'),\n",
              " Text(26.89156626506024, 49.418181818181836, 'gini = 0.346\\nsamples = 9\\nvalue = [2, 7]'),\n",
              " Text(32.26987951807229, 69.18545454545455, 'gini = 0.0\\nsamples = 15\\nvalue = [0, 15]'),\n",
              " Text(37.64819277108434, 88.95272727272729, 'gini = 0.5\\nsamples = 2\\nvalue = [1, 1]'),\n",
              " Text(43.026506024096385, 108.72, 'gini = 0.0\\nsamples = 1\\nvalue = [1, 0]'),\n",
              " Text(59.16144578313253, 128.48727272727274, 'X[5] <= 149.035\\ngini = 0.026\\nsamples = 75\\nvalue = [1, 74]'),\n",
              " Text(53.78313253012048, 108.72, 'gini = 0.0\\nsamples = 65\\nvalue = [0, 65]'),\n",
              " Text(64.53975903614457, 108.72, 'X[5] <= 152.506\\ngini = 0.18\\nsamples = 10\\nvalue = [1, 9]'),\n",
              " Text(59.16144578313253, 88.95272727272729, 'gini = 0.0\\nsamples = 1\\nvalue = [1, 0]'),\n",
              " Text(69.91807228915663, 88.95272727272729, 'gini = 0.0\\nsamples = 9\\nvalue = [0, 9]'),\n",
              " Text(116.97831325301205, 168.0218181818182, 'X[5] <= 23.35\\ngini = 0.499\\nsamples = 102\\nvalue = [49, 53]'),\n",
              " Text(106.22168674698796, 148.25454545454545, 'X[2] <= 38.5\\ngini = 0.469\\nsamples = 80\\nvalue = [30, 50]'),\n",
              " Text(100.8433734939759, 128.48727272727274, 'X[5] <= 7.888\\ngini = 0.455\\nsamples = 77\\nvalue = [27, 50]'),\n",
              " Text(86.05301204819277, 108.72, 'X[2] <= 29.25\\ngini = 0.358\\nsamples = 30\\nvalue = [7, 23]'),\n",
              " Text(80.67469879518072, 88.95272727272729, 'X[4] <= 1.0\\ngini = 0.293\\nsamples = 28\\nvalue = [5, 23]'),\n",
              " Text(75.29638554216868, 69.18545454545455, 'X[5] <= 7.64\\ngini = 0.252\\nsamples = 27\\nvalue = [4, 23]'),\n",
              " Text(69.91807228915663, 49.418181818181836, 'gini = 0.444\\nsamples = 6\\nvalue = [2, 4]'),\n",
              " Text(80.67469879518072, 49.418181818181836, 'X[2] <= 18.5\\ngini = 0.172\\nsamples = 21\\nvalue = [2, 19]'),\n",
              " Text(75.29638554216868, 29.650909090909096, 'gini = 0.5\\nsamples = 2\\nvalue = [1, 1]'),\n",
              " Text(86.05301204819277, 29.650909090909096, 'X[2] <= 25.5\\ngini = 0.1\\nsamples = 19\\nvalue = [1, 18]'),\n",
              " Text(80.67469879518072, 9.883636363636384, 'gini = 0.278\\nsamples = 6\\nvalue = [1, 5]'),\n",
              " Text(91.43132530120482, 9.883636363636384, 'gini = 0.0\\nsamples = 13\\nvalue = [0, 13]'),\n",
              " Text(86.05301204819277, 69.18545454545455, 'gini = 0.0\\nsamples = 1\\nvalue = [1, 0]'),\n",
              " Text(91.43132530120482, 88.95272727272729, 'gini = 0.0\\nsamples = 2\\nvalue = [2, 0]'),\n",
              " Text(115.63373493975904, 108.72, 'X[4] <= 1.5\\ngini = 0.489\\nsamples = 47\\nvalue = [20, 27]'),\n",
              " Text(110.25542168674698, 88.95272727272729, 'X[5] <= 8.673\\ngini = 0.5\\nsamples = 41\\nvalue = [20, 21]'),\n",
              " Text(96.80963855421686, 69.18545454545455, 'X[2] <= 27.5\\ngini = 0.42\\nsamples = 10\\nvalue = [7, 3]'),\n",
              " Text(91.43132530120482, 49.418181818181836, 'gini = 0.5\\nsamples = 6\\nvalue = [3, 3]'),\n",
              " Text(102.18795180722891, 49.418181818181836, 'gini = 0.0\\nsamples = 4\\nvalue = [4, 0]'),\n",
              " Text(123.70120481927711, 69.18545454545455, 'X[2] <= 26.5\\ngini = 0.487\\nsamples = 31\\nvalue = [13, 18]'),\n",
              " Text(112.944578313253, 49.418181818181836, 'X[5] <= 13.935\\ngini = 0.494\\nsamples = 18\\nvalue = [10, 8]'),\n",
              " Text(107.56626506024097, 29.650909090909096, 'gini = 0.408\\nsamples = 7\\nvalue = [2, 5]'),\n",
              " Text(118.32289156626506, 29.650909090909096, 'X[2] <= 16.0\\ngini = 0.397\\nsamples = 11\\nvalue = [8, 3]'),\n",
              " Text(112.944578313253, 9.883636363636384, 'gini = 0.5\\nsamples = 6\\nvalue = [3, 3]'),\n",
              " Text(123.70120481927711, 9.883636363636384, 'gini = 0.0\\nsamples = 5\\nvalue = [5, 0]'),\n",
              " Text(134.4578313253012, 49.418181818181836, 'X[5] <= 15.8\\ngini = 0.355\\nsamples = 13\\nvalue = [3, 10]'),\n",
              " Text(129.07951807228915, 29.650909090909096, 'gini = 0.49\\nsamples = 7\\nvalue = [3, 4]'),\n",
              " Text(139.83614457831325, 29.650909090909096, 'gini = 0.0\\nsamples = 6\\nvalue = [0, 6]'),\n",
              " Text(121.01204819277108, 88.95272727272729, 'gini = 0.0\\nsamples = 6\\nvalue = [0, 6]'),\n",
              " Text(111.6, 128.48727272727274, 'gini = 0.0\\nsamples = 3\\nvalue = [3, 0]'),\n",
              " Text(127.73493975903614, 148.25454545454545, 'X[4] <= 0.5\\ngini = 0.236\\nsamples = 22\\nvalue = [19, 3]'),\n",
              " Text(122.3566265060241, 128.48727272727274, 'gini = 0.0\\nsamples = 1\\nvalue = [0, 1]'),\n",
              " Text(133.1132530120482, 128.48727272727274, 'X[2] <= 5.5\\ngini = 0.172\\nsamples = 21\\nvalue = [19, 2]'),\n",
              " Text(127.73493975903614, 108.72, 'gini = 0.5\\nsamples = 2\\nvalue = [1, 1]'),\n",
              " Text(138.49156626506024, 108.72, 'X[4] <= 4.0\\ngini = 0.1\\nsamples = 19\\nvalue = [18, 1]'),\n",
              " Text(133.1132530120482, 88.95272727272729, 'gini = 0.0\\nsamples = 15\\nvalue = [15, 0]'),\n",
              " Text(143.86987951807228, 88.95272727272729, 'gini = 0.375\\nsamples = 4\\nvalue = [3, 1]'),\n",
              " Text(203.03132530120482, 187.7890909090909, 'X[2] <= 14.0\\ngini = 0.311\\nsamples = 437\\nvalue = [353, 84]'),\n",
              " Text(160.00481927710842, 168.0218181818182, 'X[3] <= 2.5\\ngini = 0.491\\nsamples = 30\\nvalue = [13, 17]'),\n",
              " Text(149.24819277108435, 148.25454545454545, 'X[4] <= 0.5\\ngini = 0.111\\nsamples = 17\\nvalue = [1, 16]'),\n",
              " Text(143.86987951807228, 128.48727272727274, 'gini = 0.5\\nsamples = 2\\nvalue = [1, 1]'),\n",
              " Text(154.6265060240964, 128.48727272727274, 'gini = 0.0\\nsamples = 15\\nvalue = [0, 15]'),\n",
              " Text(170.76144578313253, 148.25454545454545, 'X[2] <= 3.5\\ngini = 0.142\\nsamples = 13\\nvalue = [12, 1]'),\n",
              " Text(165.3831325301205, 128.48727272727274, 'gini = 0.278\\nsamples = 6\\nvalue = [5, 1]'),\n",
              " Text(176.13975903614457, 128.48727272727274, 'gini = 0.0\\nsamples = 7\\nvalue = [7, 0]'),\n",
              " Text(246.0578313253012, 168.0218181818182, 'X[0] <= 1.5\\ngini = 0.275\\nsamples = 407\\nvalue = [340, 67]'),\n",
              " Text(197.65301204819278, 148.25454545454545, 'X[2] <= 53.0\\ngini = 0.439\\nsamples = 89\\nvalue = [60, 29]'),\n",
              " Text(186.89638554216867, 128.48727272727274, 'X[5] <= 26.144\\ngini = 0.47\\nsamples = 74\\nvalue = [46, 28]'),\n",
              " Text(181.51807228915663, 108.72, 'gini = 0.0\\nsamples = 7\\nvalue = [7, 0]'),\n",
              " Text(192.2746987951807, 108.72, 'X[5] <= 27.135\\ngini = 0.487\\nsamples = 67\\nvalue = [39, 28]'),\n",
              " Text(181.51807228915663, 88.95272727272729, 'X[5] <= 26.469\\ngini = 0.278\\nsamples = 12\\nvalue = [2, 10]'),\n",
              " Text(176.13975903614457, 69.18545454545455, 'gini = 0.0\\nsamples = 4\\nvalue = [0, 4]'),\n",
              " Text(186.89638554216867, 69.18545454545455, 'gini = 0.375\\nsamples = 8\\nvalue = [2, 6]'),\n",
              " Text(203.03132530120482, 88.95272727272729, 'X[5] <= 379.925\\ngini = 0.44\\nsamples = 55\\nvalue = [37, 18]'),\n",
              " Text(197.65301204819278, 69.18545454545455, 'X[3] <= 0.5\\ngini = 0.422\\nsamples = 53\\nvalue = [37, 16]'),\n",
              " Text(184.20722891566265, 49.418181818181836, 'X[5] <= 37.0\\ngini = 0.298\\nsamples = 33\\nvalue = [27, 6]'),\n",
              " Text(173.45060240963855, 29.650909090909096, 'X[2] <= 27.5\\ngini = 0.459\\nsamples = 14\\nvalue = [9, 5]'),\n",
              " Text(168.0722891566265, 9.883636363636384, 'gini = 0.0\\nsamples = 2\\nvalue = [0, 2]'),\n",
              " Text(178.8289156626506, 9.883636363636384, 'gini = 0.375\\nsamples = 12\\nvalue = [9, 3]'),\n",
              " Text(194.96385542168673, 29.650909090909096, 'X[2] <= 19.0\\ngini = 0.1\\nsamples = 19\\nvalue = [18, 1]'),\n",
              " Text(189.5855421686747, 9.883636363636384, 'gini = 0.0\\nsamples = 1\\nvalue = [0, 1]'),\n",
              " Text(200.3421686746988, 9.883636363636384, 'gini = 0.0\\nsamples = 18\\nvalue = [18, 0]'),\n",
              " Text(211.09879518072287, 49.418181818181836, 'X[5] <= 52.277\\ngini = 0.5\\nsamples = 20\\nvalue = [10, 10]'),\n",
              " Text(205.72048192771084, 29.650909090909096, 'gini = 0.0\\nsamples = 1\\nvalue = [1, 0]'),\n",
              " Text(216.47710843373494, 29.650909090909096, 'X[5] <= 52.827\\ngini = 0.499\\nsamples = 19\\nvalue = [9, 10]'),\n",
              " Text(211.09879518072287, 9.883636363636384, 'gini = 0.0\\nsamples = 2\\nvalue = [0, 2]'),\n",
              " Text(221.85542168674698, 9.883636363636384, 'gini = 0.498\\nsamples = 17\\nvalue = [9, 8]'),\n",
              " Text(208.40963855421685, 69.18545454545455, 'gini = 0.0\\nsamples = 2\\nvalue = [0, 2]'),\n",
              " Text(208.40963855421685, 128.48727272727274, 'X[2] <= 75.5\\ngini = 0.124\\nsamples = 15\\nvalue = [14, 1]'),\n",
              " Text(203.03132530120482, 108.72, 'gini = 0.0\\nsamples = 14\\nvalue = [14, 0]'),\n",
              " Text(213.78795180722892, 108.72, 'gini = 0.0\\nsamples = 1\\nvalue = [0, 1]'),\n",
              " Text(294.4626506024096, 148.25454545454545, 'X[2] <= 32.5\\ngini = 0.21\\nsamples = 318\\nvalue = [280, 38]'),\n",
              " Text(281.0168674698795, 128.48727272727274, 'X[2] <= 30.75\\ngini = 0.242\\nsamples = 234\\nvalue = [201, 33]'),\n",
              " Text(270.26024096385544, 108.72, 'X[3] <= 1.5\\ngini = 0.209\\nsamples = 219\\nvalue = [193, 26]'),\n",
              " Text(264.88192771084334, 88.95272727272729, 'X[4] <= 0.5\\ngini = 0.22\\nsamples = 207\\nvalue = [181, 26]'),\n",
              " Text(254.12530120481927, 69.18545454545455, 'X[5] <= 42.108\\ngini = 0.206\\nsamples = 197\\nvalue = [174, 23]'),\n",
              " Text(248.74698795180723, 49.418181818181836, 'X[2] <= 28.75\\ngini = 0.196\\nsamples = 191\\nvalue = [170, 21]'),\n",
              " Text(237.99036144578312, 29.650909090909096, 'X[5] <= 7.798\\ngini = 0.18\\nsamples = 170\\nvalue = [153, 17]'),\n",
              " Text(232.61204819277108, 9.883636363636384, 'gini = 0.242\\nsamples = 64\\nvalue = [55, 9]'),\n",
              " Text(243.3686746987952, 9.883636363636384, 'gini = 0.14\\nsamples = 106\\nvalue = [98, 8]'),\n",
              " Text(259.5036144578313, 29.650909090909096, 'X[5] <= 10.0\\ngini = 0.308\\nsamples = 21\\nvalue = [17, 4]'),\n",
              " Text(254.12530120481927, 9.883636363636384, 'gini = 0.408\\nsamples = 14\\nvalue = [10, 4]'),\n",
              " Text(264.88192771084334, 9.883636363636384, 'gini = 0.0\\nsamples = 7\\nvalue = [7, 0]'),\n",
              " Text(259.5036144578313, 49.418181818181836, 'gini = 0.444\\nsamples = 6\\nvalue = [4, 2]'),\n",
              " Text(275.6385542168675, 69.18545454545455, 'X[5] <= 17.977\\ngini = 0.42\\nsamples = 10\\nvalue = [7, 3]'),\n",
              " Text(270.26024096385544, 49.418181818181836, 'gini = 0.375\\nsamples = 4\\nvalue = [1, 3]'),\n",
              " Text(281.0168674698795, 49.418181818181836, 'gini = 0.0\\nsamples = 6\\nvalue = [6, 0]'),\n",
              " Text(275.6385542168675, 88.95272727272729, 'gini = 0.0\\nsamples = 12\\nvalue = [12, 0]'),\n",
              " Text(291.7734939759036, 108.72, 'X[5] <= 7.815\\ngini = 0.498\\nsamples = 15\\nvalue = [8, 7]'),\n",
              " Text(286.39518072289155, 88.95272727272729, 'gini = 0.0\\nsamples = 2\\nvalue = [2, 0]'),\n",
              " Text(297.15180722891563, 88.95272727272729, 'X[3] <= 0.5\\ngini = 0.497\\nsamples = 13\\nvalue = [6, 7]'),\n",
              " Text(291.7734939759036, 69.18545454545455, 'gini = 0.444\\nsamples = 9\\nvalue = [3, 6]'),\n",
              " Text(302.5301204819277, 69.18545454545455, 'gini = 0.375\\nsamples = 4\\nvalue = [3, 1]'),\n",
              " Text(307.90843373493976, 128.48727272727274, 'X[5] <= 7.91\\ngini = 0.112\\nsamples = 84\\nvalue = [79, 5]'),\n",
              " Text(302.5301204819277, 108.72, 'gini = 0.0\\nsamples = 26\\nvalue = [26, 0]'),\n",
              " Text(313.2867469879518, 108.72, 'X[5] <= 7.988\\ngini = 0.158\\nsamples = 58\\nvalue = [53, 5]'),\n",
              " Text(307.90843373493976, 88.95272727272729, 'gini = 0.5\\nsamples = 4\\nvalue = [2, 2]'),\n",
              " Text(318.66506024096384, 88.95272727272729, 'X[5] <= 13.25\\ngini = 0.105\\nsamples = 54\\nvalue = [51, 3]'),\n",
              " Text(313.2867469879518, 69.18545454545455, 'X[5] <= 12.938\\ngini = 0.191\\nsamples = 28\\nvalue = [25, 3]'),\n",
              " Text(302.5301204819277, 49.418181818181836, 'X[2] <= 44.5\\ngini = 0.105\\nsamples = 18\\nvalue = [17, 1]'),\n",
              " Text(297.15180722891563, 29.650909090909096, 'gini = 0.0\\nsamples = 13\\nvalue = [13, 0]'),\n",
              " Text(307.90843373493976, 29.650909090909096, 'gini = 0.32\\nsamples = 5\\nvalue = [4, 1]'),\n",
              " Text(324.0433734939759, 49.418181818181836, 'X[2] <= 45.0\\ngini = 0.32\\nsamples = 10\\nvalue = [8, 2]'),\n",
              " Text(318.66506024096384, 29.650909090909096, 'gini = 0.408\\nsamples = 7\\nvalue = [5, 2]'),\n",
              " Text(329.421686746988, 29.650909090909096, 'gini = 0.0\\nsamples = 3\\nvalue = [3, 0]'),\n",
              " Text(324.0433734939759, 69.18545454545455, 'gini = 0.0\\nsamples = 26\\nvalue = [26, 0]')]"
            ]
          },
          "metadata": {},
          "execution_count": 242
        },
        {
          "output_type": "display_data",
          "data": {
            "image/png": "[encoded data removed]",
            "text/plain": [
              "<Figure size 432x288 with 1 Axes>"
            ]
          },
          "metadata": {
            "needs_background": "light"
          }
        }
      ]
    },
    {
      "cell_type": "markdown",
      "metadata": {
        "id": "n_HCkZ7eJlBk"
      },
      "source": [
        "**DecisionTreeClassifier(max_depth=2, min_samples_split=2)**"
      ],
      "id": "n_HCkZ7eJlBk"
    },
    {
      "cell_type": "code",
      "metadata": {
        "colab": {
          "base_uri": "https://localhost:8080/"
        },
        "id": "UQi97e6pFtn-",
        "outputId": "7688d96e-3847-49aa-d22f-909d9ffdbfa0"
      },
      "source": [
        "#importando Classificador e treinando modelo\n",
        "decisionTreeClf = DecisionTreeClassifier(random_state=0, max_depth=2)\n",
        "decisionTreeClf.fit(train_X,train_y)"
      ],
      "id": "UQi97e6pFtn-",
      "execution_count": 229,
      "outputs": [
        {
          "output_type": "execute_result",
          "data": {
            "text/plain": [
              "DecisionTreeClassifier(ccp_alpha=0.0, class_weight=None, criterion='gini',\n",
              "                       max_depth=2, max_features=None, max_leaf_nodes=None,\n",
              "                       min_impurity_decrease=0.0, min_impurity_split=None,\n",
              "                       min_samples_leaf=1, min_samples_split=2,\n",
              "                       min_weight_fraction_leaf=0.0, presort='deprecated',\n",
              "                       random_state=0, splitter='best')"
            ]
          },
          "metadata": {},
          "execution_count": 229
        }
      ]
    },
    {
      "cell_type": "code",
      "metadata": {
        "id": "anYek775JpZ2"
      },
      "source": [
        "#Predizendo valores e guadando em val_predictions\n",
        "val_predictions = decisionTreeClf.predict(val_X)"
      ],
      "id": "anYek775JpZ2",
      "execution_count": 230,
      "outputs": []
    },
    {
      "cell_type": "code",
      "metadata": {
        "colab": {
          "base_uri": "https://localhost:8080/"
        },
        "id": "1wKSiQUCJ-tR",
        "outputId": "acb99f29-c8f2-47e9-f77e-32e7af5a1f34"
      },
      "source": [
        "print(confusion_matrix(val_y,val_predictions))"
      ],
      "id": "1wKSiQUCJ-tR",
      "execution_count": 231,
      "outputs": [
        {
          "output_type": "stream",
          "text": [
            "[[110  29]\n",
            " [ 21  63]]\n"
          ],
          "name": "stdout"
        }
      ]
    },
    {
      "cell_type": "code",
      "metadata": {
        "colab": {
          "base_uri": "https://localhost:8080/"
        },
        "id": "wYU5Uy1vJ_d_",
        "outputId": "894c2602-ba82-4394-86e6-7837a3542947"
      },
      "source": [
        "accuracy = accuracy_score(val_y, val_predictions)\n",
        "accuracy"
      ],
      "id": "wYU5Uy1vJ_d_",
      "execution_count": 232,
      "outputs": [
        {
          "output_type": "execute_result",
          "data": {
            "text/plain": [
              "0.7757847533632287"
            ]
          },
          "metadata": {},
          "execution_count": 232
        }
      ]
    },
    {
      "cell_type": "markdown",
      "metadata": {
        "id": "B0KAkyYZPYh3"
      },
      "source": [
        "Diferentemente de alguns experimentos anteriores, onde foi possível observar o overfitting, nesse caso, por termos criado uma árvore de decisão com uma pequena profundidade igual a 2, temos que o classificador sofreu underfitting e não conseguiu relacionar bem a entrada com a saída, tendo uma pior acurácia se comparado aos anteriores. "
      ],
      "id": "B0KAkyYZPYh3"
    },
    {
      "cell_type": "code",
      "metadata": {
        "colab": {
          "base_uri": "https://localhost:8080/",
          "height": 367
        },
        "id": "dXqkEGPeKAGo",
        "outputId": "5eb0516c-afbe-4bce-823a-b1ca03b2b797"
      },
      "source": [
        "#Plotando a árvore de decisão\n",
        "tree.plot_tree(decisionTreeClf)"
      ],
      "id": "dXqkEGPeKAGo",
      "execution_count": 233,
      "outputs": [
        {
          "output_type": "execute_result",
          "data": {
            "text/plain": [
              "[Text(167.4, 181.2, 'X[1] <= 0.5\\ngini = 0.474\\nsamples = 668\\nvalue = [410, 258]'),\n",
              " Text(83.7, 108.72, 'X[0] <= 2.5\\ngini = 0.372\\nsamples = 231\\nvalue = [57, 174]'),\n",
              " Text(41.85, 36.23999999999998, 'gini = 0.116\\nsamples = 129\\nvalue = [8, 121]'),\n",
              " Text(125.55000000000001, 36.23999999999998, 'gini = 0.499\\nsamples = 102\\nvalue = [49, 53]'),\n",
              " Text(251.10000000000002, 108.72, 'X[2] <= 14.0\\ngini = 0.311\\nsamples = 437\\nvalue = [353, 84]'),\n",
              " Text(209.25, 36.23999999999998, 'gini = 0.491\\nsamples = 30\\nvalue = [13, 17]'),\n",
              " Text(292.95, 36.23999999999998, 'gini = 0.275\\nsamples = 407\\nvalue = [340, 67]')]"
            ]
          },
          "metadata": {},
          "execution_count": 233
        },
        {
          "output_type": "display_data",
          "data": {
            "image/png": "[encoded data removed]",
            "text/plain": [
              "<Figure size 432x288 with 1 Axes>"
            ]
          },
          "metadata": {
            "needs_background": "light"
          }
        }
      ]
    },
    {
      "cell_type": "markdown",
      "metadata": {
        "id": "KNfuaIk1Pxun"
      },
      "source": [
        "**Usando GridSearch em busca de melhores parâmetros**"
      ],
      "id": "KNfuaIk1Pxun"
    },
    {
      "cell_type": "code",
      "metadata": {
        "colab": {
          "base_uri": "https://localhost:8080/"
        },
        "id": "eGN3GX4pKL5d",
        "outputId": "3d4c83ef-abb8-464d-ec24-250cbc9c6d37"
      },
      "source": [
        "from sklearn.model_selection import GridSearchCV\n",
        "\n",
        "param_grid = {\n",
        "    \"max_depth\": [3,5,10,15,20,30,None],\n",
        "    \"min_samples_split\": [2,5,7,10,15,20],\n",
        "    \"min_samples_leaf\": [1,2,5,7,10,15,20]\n",
        "}\n",
        "\n",
        "clf = DecisionTreeClassifier(random_state=42)\n",
        "grid_cv = GridSearchCV(clf, param_grid, scoring=\"roc_auc\", n_jobs=-1, cv=3).fit(train_X, train_y)\n",
        "\n",
        "print(\"Param for GS\", grid_cv.best_params_)\n",
        "print(\"CV score for GS\", grid_cv.best_score_)"
      ],
      "id": "eGN3GX4pKL5d",
      "execution_count": 234,
      "outputs": [
        {
          "output_type": "stream",
          "text": [
            "Param for GS {'max_depth': 3, 'min_samples_leaf': 15, 'min_samples_split': 2}\n",
            "CV score for GS 0.8432611352977789\n"
          ],
          "name": "stdout"
        }
      ]
    },
    {
      "cell_type": "code",
      "metadata": {
        "colab": {
          "base_uri": "https://localhost:8080/"
        },
        "id": "Fr3eX4P2KXhq",
        "outputId": "f3839a66-688c-4a23-9221-f226461a4a1e"
      },
      "source": [
        "#importando Classificador e treinando modelo\n",
        "decisionTreeClf = DecisionTreeClassifier(random_state=0, max_depth=3, min_samples_split=2, min_samples_leaf=15)\n",
        "decisionTreeClf.fit(train_X,train_y)"
      ],
      "id": "Fr3eX4P2KXhq",
      "execution_count": 235,
      "outputs": [
        {
          "output_type": "execute_result",
          "data": {
            "text/plain": [
              "DecisionTreeClassifier(ccp_alpha=0.0, class_weight=None, criterion='gini',\n",
              "                       max_depth=3, max_features=None, max_leaf_nodes=None,\n",
              "                       min_impurity_decrease=0.0, min_impurity_split=None,\n",
              "                       min_samples_leaf=15, min_samples_split=2,\n",
              "                       min_weight_fraction_leaf=0.0, presort='deprecated',\n",
              "                       random_state=0, splitter='best')"
            ]
          },
          "metadata": {},
          "execution_count": 235
        }
      ]
    },
    {
      "cell_type": "code",
      "metadata": {
        "colab": {
          "base_uri": "https://localhost:8080/",
          "height": 503
        },
        "id": "-NYDQaGFLwx6",
        "outputId": "b4e0b315-a1f0-4f78-8057-95b037373d3a"
      },
      "source": [
        "#Plotando a árvore de decisão\n",
        "tree.plot_tree(decisionTreeClf)"
      ],
      "id": "-NYDQaGFLwx6",
      "execution_count": 236,
      "outputs": [
        {
          "output_type": "execute_result",
          "data": {
            "text/plain": [
              "[Text(167.4, 190.26, 'X[1] <= 0.5\\ngini = 0.474\\nsamples = 668\\nvalue = [410, 258]'),\n",
              " Text(83.7, 135.9, 'X[0] <= 2.5\\ngini = 0.372\\nsamples = 231\\nvalue = [57, 174]'),\n",
              " Text(41.85, 81.53999999999999, 'X[5] <= 28.856\\ngini = 0.116\\nsamples = 129\\nvalue = [8, 121]'),\n",
              " Text(20.925, 27.180000000000007, 'gini = 0.201\\nsamples = 53\\nvalue = [6, 47]'),\n",
              " Text(62.775000000000006, 27.180000000000007, 'gini = 0.051\\nsamples = 76\\nvalue = [2, 74]'),\n",
              " Text(125.55000000000001, 81.53999999999999, 'X[5] <= 23.35\\ngini = 0.499\\nsamples = 102\\nvalue = [49, 53]'),\n",
              " Text(104.625, 27.180000000000007, 'gini = 0.469\\nsamples = 80\\nvalue = [30, 50]'),\n",
              " Text(146.475, 27.180000000000007, 'gini = 0.236\\nsamples = 22\\nvalue = [19, 3]'),\n",
              " Text(251.10000000000002, 135.9, 'X[2] <= 14.0\\ngini = 0.311\\nsamples = 437\\nvalue = [353, 84]'),\n",
              " Text(209.25, 81.53999999999999, 'X[2] <= 3.5\\ngini = 0.491\\nsamples = 30\\nvalue = [13, 17]'),\n",
              " Text(188.32500000000002, 27.180000000000007, 'gini = 0.444\\nsamples = 15\\nvalue = [5, 10]'),\n",
              " Text(230.175, 27.180000000000007, 'gini = 0.498\\nsamples = 15\\nvalue = [8, 7]'),\n",
              " Text(292.95, 81.53999999999999, 'X[0] <= 1.5\\ngini = 0.275\\nsamples = 407\\nvalue = [340, 67]'),\n",
              " Text(272.02500000000003, 27.180000000000007, 'gini = 0.439\\nsamples = 89\\nvalue = [60, 29]'),\n",
              " Text(313.875, 27.180000000000007, 'gini = 0.21\\nsamples = 318\\nvalue = [280, 38]')]"
            ]
          },
          "metadata": {},
          "execution_count": 236
        },
        {
          "output_type": "display_data",
          "data": {
            "image/png": "[encoded data removed]",
            "text/plain": [
              "<Figure size 432x288 with 1 Axes>"
            ]
          },
          "metadata": {
            "needs_background": "light"
          }
        }
      ]
    },
    {
      "cell_type": "code",
      "metadata": {
        "id": "XUnxVutHLx0h"
      },
      "source": [
        ""
      ],
      "id": "XUnxVutHLx0h",
      "execution_count": 236,
      "outputs": []
    }
  ]
}